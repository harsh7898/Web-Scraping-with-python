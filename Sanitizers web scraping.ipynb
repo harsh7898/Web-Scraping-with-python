{
 "cells": [
  {
   "cell_type": "code",
   "execution_count": 1,
   "metadata": {},
   "outputs": [
    {
     "name": "stdout",
     "output_type": "stream",
     "text": [
      "482624\n"
     ]
    }
   ],
   "source": [
    "import requests\n",
    "r = requests.get('https://www.flipkart.com/search?q=sanitizer&sid=g9b%2Cema%2Crhm%2Cjrn&as=on&as-show=on&otracker=AS_QueryStore_OrganicAutoSuggest_1_3_na_na_na&otracker1=AS_QueryStore_OrganicAutoSuggest_1_3_na_na_na&as-pos=1&as-type=HISTORY&suggestionId=sanitizer%7CHand+Sanitizer&requestId=0dbd35b0-1bcb-4853-9cb3-a5267cdaea1e')\n",
    "print (len(r.text))"
   ]
  },
  {
   "cell_type": "code",
   "execution_count": 2,
   "metadata": {},
   "outputs": [
    {
     "name": "stdout",
     "output_type": "stream",
     "text": [
      "<title>Sanitizer - Buy Products Online at Best Price in India - All Categories | Flipkart.com</title>\n",
      "Sanitizer - Buy Products Online at Best Price in India - All Categories | Flipkart.com\n"
     ]
    }
   ],
   "source": [
    "# Importing BeautifulSoup\n",
    "from bs4 import BeautifulSoup\n",
    "soup =BeautifulSoup(r.text)\n",
    "print(soup.title)\n",
    "print(soup.title.string)"
   ]
  },
  {
   "cell_type": "code",
   "execution_count": 3,
   "metadata": {},
   "outputs": [
    {
     "name": "stdout",
     "output_type": "stream",
     "text": [
      "<p class=\"_2xg6Ul\">Great product</p>\n",
      "Great product\n",
      "<a href=\"/\"><img alt=\"Flipkart\" class=\"_1e_EAo\" src=\"//img1a.flixcart.com/www/linchpin/fk-cp-zion/img/flipkart-plus_4ee2f9.png\" title=\"Flipkart\" width=\"75\"/></a>\n",
      "None\n",
      "\n",
      "<div class=\"row\"><div class=\"hGSR34 E_uFuv\">5<img class=\"_2lQ_WZ\" src=\"data:image/svg+xml;base64,PHN2ZyB4bWxucz0iaHR0cDovL3d3dy53My5vcmcvMjAwMC9zdmciIHdpZHRoPSIxMyIgaGVpZ2h0PSIxMiI+PHBhdGggZmlsbD0iI0ZGRiIgZD0iTTYuNSA5LjQzOWwtMy42NzQgMi4yMy45NC00LjI2LTMuMjEtMi44ODMgNC4yNTQtLjQwNEw2LjUuMTEybDEuNjkgNC4wMSA0LjI1NC40MDQtMy4yMSAyLjg4Mi45NCA0LjI2eiIvPjwvc3ZnPg==\"/></div><p class=\"_2xg6Ul\">Great product</p></div>\n"
     ]
    }
   ],
   "source": [
    "# Accessing page contents using tags\n",
    "print(soup.p)\n",
    "print(soup.p.text)\n",
    "print(soup.a)\n",
    "print(soup.a.title)\n",
    "print()\n",
    "print(soup.p.parent)"
   ]
  },
  {
   "cell_type": "code",
   "execution_count": 4,
   "metadata": {},
   "outputs": [
    {
     "name": "stdout",
     "output_type": "stream",
     "text": [
      "<div class=\"row\">\n",
      " <div class=\"hGSR34 E_uFuv\">\n",
      "  5\n",
      "  <img class=\"_2lQ_WZ\" src=\"data:image/svg+xml;base64,PHN2ZyB4bWxucz0iaHR0cDovL3d3dy53My5vcmcvMjAwMC9zdmciIHdpZHRoPSIxMyIgaGVpZ2h0PSIxMiI+PHBhdGggZmlsbD0iI0ZGRiIgZD0iTTYuNSA5LjQzOWwtMy42NzQgMi4yMy45NC00LjI2LTMuMjEtMi44ODMgNC4yNTQtLjQwNEw2LjUuMTEybDEuNjkgNC4wMSA0LjI1NC40MDQtMy4yMSAyLjg4Mi45NCA0LjI2eiIvPjwvc3ZnPg==\"/>\n",
      " </div>\n",
      " <p class=\"_2xg6Ul\">\n",
      "  Great product\n",
      " </p>\n",
      "</div>\n",
      "\n"
     ]
    }
   ],
   "source": [
    "# Prettify() is handy for formatted printing\n",
    "print(soup.p.parent.prettify())"
   ]
  },
  {
   "cell_type": "code",
   "execution_count": 5,
   "metadata": {},
   "outputs": [
    {
     "name": "stdout",
     "output_type": "stream",
     "text": [
      "/\n",
      "/plus\n",
      "/account/login?ret=/search%3Fq%3Dsanitizer%26sid%3Dg9b%252Cema%252Crhm%252Cjrn%26as%3Don%26as-show%3Don%26otracker%3DAS_QueryStore_OrganicAutoSuggest_1_3_na_na_na%26otracker1%3DAS_QueryStore_OrganicAutoSuggest_1_3_na_na_na%26as-pos%3D1%26as-type%3DHISTORY%26suggestionId%3Dsanitizer%257CHand%2BSanitizer%26requestId%3D0dbd35b0-1bcb-4853-9cb3-a5267cdaea1e\n",
      "/viewcart?otracker=Cart_Icon_Click\n",
      "/beauty-and-grooming/pr?sid=g9b&q=sanitizer&otracker=categorytree\n",
      "/beauty-and-grooming/body-face-skin-care/pr?sid=g9b,ema&q=sanitizer&otracker=categorytree\n",
      "/beauty-and-grooming/body-face-skin-care/hand-foot-care/pr?sid=g9b,ema,rhm&q=sanitizer&otracker=categorytree\n",
      "/beauty-and-grooming/body-face-skin-care/hand-foot-care/hand-sanitizer/pr?sid=g9b,ema,rhm,jrn&q=sanitizer&otracker=categorytree\n",
      "/\n",
      "/beauty-and-grooming/pr?sid=g9b&marketplace=FLIPKART\n",
      "/beauty-and-grooming/body-face-skin-care/pr?sid=g9b,ema&marketplace=FLIPKART\n",
      "/beauty-and-grooming/body-face-skin-care/hand-foot-care/pr?sid=g9b,ema,rhm&marketplace=FLIPKART\n",
      "/beauty-and-grooming/body-face-skin-care/hand-foot-care/hand-sanitizer/pr?sid=g9b,ema,rhm,jrn&marketplace=FLIPKART\n",
      "/khadi-organique-kills-99-99-germs-infection-without-water-triple-action-formula-sanitizes-hands-ph-balanced-nourishes-skin-hand-sanitizer-bottle/p/itm79e535b48c44b?pid=HWSFPYWQZCEQJHTQ&lid=LSTHWSFPYWQZCEQJHTQ2VN54S&marketplace=FLIPKART&srno=s_1_1&otracker=AS_QueryStore_OrganicAutoSuggest_1_3_na_na_na&otracker1=AS_QueryStore_OrganicAutoSuggest_1_3_na_na_na&fm=organic&iid=df3bb606-c11e-4a22-8e42-b7d7efe6ccdd.HWSFPYWQZCEQJHTQ.SEARCH&ssid=11oa4tapqo0000001588241832893&qH=2ef7ed4d594bca91\n",
      "/khadi-organique-kills-99-99-germs-infection-without-water-triple-action-formula-sanitizes-hands-ph-balanced-nourishes-skin-hand-sanitizer-bottle/p/itm79e535b48c44b?pid=HWSFPYWQZCEQJHTQ&lid=LSTHWSFPYWQZCEQJHTQ2VN54S&marketplace=FLIPKART&srno=s_1_1&otracker=AS_QueryStore_OrganicAutoSuggest_1_3_na_na_na&otracker1=AS_QueryStore_OrganicAutoSuggest_1_3_na_na_na&fm=organic&iid=df3bb606-c11e-4a22-8e42-b7d7efe6ccdd.HWSFPYWQZCEQJHTQ.SEARCH&ssid=11oa4tapqo0000001588241832893&qH=2ef7ed4d594bca91\n",
      "/khadi-organique-kills-99-99-germs-infection-without-water-triple-action-formula-sanitizes-hands-ph-balanced-nourishes-skin-hand-sanitizer-bottle/p/itm79e535b48c44b?pid=HWSFPYWQZCEQJHTQ&lid=LSTHWSFPYWQZCEQJHTQ2VN54S&marketplace=FLIPKART&srno=s_1_1&otracker=AS_QueryStore_OrganicAutoSuggest_1_3_na_na_na&otracker1=AS_QueryStore_OrganicAutoSuggest_1_3_na_na_na&fm=organic&iid=df3bb606-c11e-4a22-8e42-b7d7efe6ccdd.HWSFPYWQZCEQJHTQ.SEARCH&ssid=11oa4tapqo0000001588241832893&qH=2ef7ed4d594bca91\n",
      "/aryanveda-herbals-bodyguard-disinfectant-gel-100-ml-each-pack-6-hand-sanitizer-bottle/p/itma3bbecc4acbb0?pid=HWSFPVGNRAFHTMQV&lid=LSTHWSFPVGNRAFHTMQVTFSMTJ&marketplace=FLIPKART&srno=s_1_2&otracker=AS_QueryStore_OrganicAutoSuggest_1_3_na_na_na&otracker1=AS_QueryStore_OrganicAutoSuggest_1_3_na_na_na&fm=organic&iid=df3bb606-c11e-4a22-8e42-b7d7efe6ccdd.HWSFPVGNRAFHTMQV.SEARCH&ssid=11oa4tapqo0000001588241832893&qH=2ef7ed4d594bca91\n",
      "/aryanveda-herbals-bodyguard-disinfectant-gel-100-ml-each-pack-6-hand-sanitizer-bottle/p/itma3bbecc4acbb0?pid=HWSFPVGNRAFHTMQV&lid=LSTHWSFPVGNRAFHTMQVTFSMTJ&marketplace=FLIPKART&srno=s_1_2&otracker=AS_QueryStore_OrganicAutoSuggest_1_3_na_na_na&otracker1=AS_QueryStore_OrganicAutoSuggest_1_3_na_na_na&fm=organic&iid=df3bb606-c11e-4a22-8e42-b7d7efe6ccdd.HWSFPVGNRAFHTMQV.SEARCH&ssid=11oa4tapqo0000001588241832893&qH=2ef7ed4d594bca91\n",
      "/aryanveda-herbals-bodyguard-disinfectant-gel-100-ml-each-pack-6-hand-sanitizer-bottle/p/itma3bbecc4acbb0?pid=HWSFPVGNRAFHTMQV&lid=LSTHWSFPVGNRAFHTMQVTFSMTJ&marketplace=FLIPKART&srno=s_1_2&otracker=AS_QueryStore_OrganicAutoSuggest_1_3_na_na_na&otracker1=AS_QueryStore_OrganicAutoSuggest_1_3_na_na_na&fm=organic&iid=df3bb606-c11e-4a22-8e42-b7d7efe6ccdd.HWSFPVGNRAFHTMQV.SEARCH&ssid=11oa4tapqo0000001588241832893&qH=2ef7ed4d594bca91\n",
      "/qraa-safe-hands-all-kind-flu-virus-anti-bacterial-neem-aloe-vera-extracts-500ml-hand-sanitizer-pump-dispenser/p/itmd1d6e7994377c?pid=HWSFQYA9UGAEZKSX&lid=LSTHWSFQYA9UGAEZKSXPOU1W8&marketplace=FLIPKART&srno=s_1_3&otracker=AS_QueryStore_OrganicAutoSuggest_1_3_na_na_na&otracker1=AS_QueryStore_OrganicAutoSuggest_1_3_na_na_na&fm=organic&iid=df3bb606-c11e-4a22-8e42-b7d7efe6ccdd.HWSFQYA9UGAEZKSX.SEARCH&ssid=11oa4tapqo0000001588241832893&qH=2ef7ed4d594bca91\n",
      "/qraa-safe-hands-all-kind-flu-virus-anti-bacterial-neem-aloe-vera-extracts-500ml-hand-sanitizer-pump-dispenser/p/itmd1d6e7994377c?pid=HWSFQYA9UGAEZKSX&lid=LSTHWSFQYA9UGAEZKSXPOU1W8&marketplace=FLIPKART&srno=s_1_3&otracker=AS_QueryStore_OrganicAutoSuggest_1_3_na_na_na&otracker1=AS_QueryStore_OrganicAutoSuggest_1_3_na_na_na&fm=organic&iid=df3bb606-c11e-4a22-8e42-b7d7efe6ccdd.HWSFQYA9UGAEZKSX.SEARCH&ssid=11oa4tapqo0000001588241832893&qH=2ef7ed4d594bca91\n",
      "/qraa-safe-hands-all-kind-flu-virus-anti-bacterial-neem-aloe-vera-extracts-500ml-hand-sanitizer-pump-dispenser/p/itmd1d6e7994377c?pid=HWSFQYA9UGAEZKSX&lid=LSTHWSFQYA9UGAEZKSXPOU1W8&marketplace=FLIPKART&srno=s_1_3&otracker=AS_QueryStore_OrganicAutoSuggest_1_3_na_na_na&otracker1=AS_QueryStore_OrganicAutoSuggest_1_3_na_na_na&fm=organic&iid=df3bb606-c11e-4a22-8e42-b7d7efe6ccdd.HWSFQYA9UGAEZKSX.SEARCH&ssid=11oa4tapqo0000001588241832893&qH=2ef7ed4d594bca91\n",
      "/aryanveda-herbals-bodyguard-disinfectant-gel-500-ml-hand-sanitizer-bottle/p/itm46e825717d083?pid=HWSFPVGVUNQUYPGR&lid=LSTHWSFPVGVUNQUYPGRCZZPSB&marketplace=FLIPKART&spotlightTagId=TrendingId_g9b%2Fema%2Frhm%2Fjrn&srno=s_1_4&otracker=AS_QueryStore_OrganicAutoSuggest_1_3_na_na_na&otracker1=AS_QueryStore_OrganicAutoSuggest_1_3_na_na_na&fm=organic&iid=df3bb606-c11e-4a22-8e42-b7d7efe6ccdd.HWSFPVGVUNQUYPGR.SEARCH&ssid=11oa4tapqo0000001588241832893&qH=2ef7ed4d594bca91\n",
      "/aryanveda-herbals-bodyguard-disinfectant-gel-500-ml-hand-sanitizer-bottle/p/itm46e825717d083?pid=HWSFPVGVUNQUYPGR&lid=LSTHWSFPVGVUNQUYPGRCZZPSB&marketplace=FLIPKART&spotlightTagId=TrendingId_g9b%2Fema%2Frhm%2Fjrn&srno=s_1_4&otracker=AS_QueryStore_OrganicAutoSuggest_1_3_na_na_na&otracker1=AS_QueryStore_OrganicAutoSuggest_1_3_na_na_na&fm=organic&iid=df3bb606-c11e-4a22-8e42-b7d7efe6ccdd.HWSFPVGVUNQUYPGR.SEARCH&ssid=11oa4tapqo0000001588241832893&qH=2ef7ed4d594bca91\n",
      "/aryanveda-herbals-bodyguard-disinfectant-gel-500-ml-hand-sanitizer-bottle/p/itm46e825717d083?pid=HWSFPVGVUNQUYPGR&lid=LSTHWSFPVGVUNQUYPGRCZZPSB&marketplace=FLIPKART&spotlightTagId=TrendingId_g9b%2Fema%2Frhm%2Fjrn&srno=s_1_4&otracker=AS_QueryStore_OrganicAutoSuggest_1_3_na_na_na&otracker1=AS_QueryStore_OrganicAutoSuggest_1_3_na_na_na&fm=organic&iid=df3bb606-c11e-4a22-8e42-b7d7efe6ccdd.HWSFPVGVUNQUYPGR.SEARCH&ssid=11oa4tapqo0000001588241832893&qH=2ef7ed4d594bca91\n",
      "/qraa-safe-hands-sanitizing-hand-rub-anti-bacterial-neem-aloe-vera-extracts-sanitizer-bottle/p/itm816856cb3ffa3?pid=HWSFPWQ3SGHHHFMW&lid=LSTHWSFPWQ3SGHHHFMWURONBU&marketplace=FLIPKART&srno=s_1_5&otracker=AS_QueryStore_OrganicAutoSuggest_1_3_na_na_na&otracker1=AS_QueryStore_OrganicAutoSuggest_1_3_na_na_na&fm=organic&iid=df3bb606-c11e-4a22-8e42-b7d7efe6ccdd.HWSFPWQ3SGHHHFMW.SEARCH&ssid=11oa4tapqo0000001588241832893&qH=2ef7ed4d594bca91\n",
      "/qraa-safe-hands-sanitizing-hand-rub-anti-bacterial-neem-aloe-vera-extracts-sanitizer-bottle/p/itm816856cb3ffa3?pid=HWSFPWQ3SGHHHFMW&lid=LSTHWSFPWQ3SGHHHFMWURONBU&marketplace=FLIPKART&srno=s_1_5&otracker=AS_QueryStore_OrganicAutoSuggest_1_3_na_na_na&otracker1=AS_QueryStore_OrganicAutoSuggest_1_3_na_na_na&fm=organic&iid=df3bb606-c11e-4a22-8e42-b7d7efe6ccdd.HWSFPWQ3SGHHHFMW.SEARCH&ssid=11oa4tapqo0000001588241832893&qH=2ef7ed4d594bca91\n",
      "/qraa-safe-hands-sanitizing-hand-rub-anti-bacterial-neem-aloe-vera-extracts-sanitizer-bottle/p/itm816856cb3ffa3?pid=HWSFPWQ3SGHHHFMW&lid=LSTHWSFPWQ3SGHHHFMWURONBU&marketplace=FLIPKART&srno=s_1_5&otracker=AS_QueryStore_OrganicAutoSuggest_1_3_na_na_na&otracker1=AS_QueryStore_OrganicAutoSuggest_1_3_na_na_na&fm=organic&iid=df3bb606-c11e-4a22-8e42-b7d7efe6ccdd.HWSFPWQ3SGHHHFMW.SEARCH&ssid=11oa4tapqo0000001588241832893&qH=2ef7ed4d594bca91\n",
      "/khadi-organique-kills-99-99-germs-infection-without-water-triple-action-formula-sanitizes-hands-ph-balanced-nourishes-skin-hand-sanitizer-bottle/p/itm309fac708effa?pid=HWSFPWUG6NGUFRKN&lid=LSTHWSFPWUG6NGUFRKNZTM94O&marketplace=FLIPKART&srno=s_1_6&otracker=AS_QueryStore_OrganicAutoSuggest_1_3_na_na_na&otracker1=AS_QueryStore_OrganicAutoSuggest_1_3_na_na_na&fm=organic&iid=df3bb606-c11e-4a22-8e42-b7d7efe6ccdd.HWSFPWUG6NGUFRKN.SEARCH&ssid=11oa4tapqo0000001588241832893&qH=2ef7ed4d594bca91\n",
      "/khadi-organique-kills-99-99-germs-infection-without-water-triple-action-formula-sanitizes-hands-ph-balanced-nourishes-skin-hand-sanitizer-bottle/p/itm309fac708effa?pid=HWSFPWUG6NGUFRKN&lid=LSTHWSFPWUG6NGUFRKNZTM94O&marketplace=FLIPKART&srno=s_1_6&otracker=AS_QueryStore_OrganicAutoSuggest_1_3_na_na_na&otracker1=AS_QueryStore_OrganicAutoSuggest_1_3_na_na_na&fm=organic&iid=df3bb606-c11e-4a22-8e42-b7d7efe6ccdd.HWSFPWUG6NGUFRKN.SEARCH&ssid=11oa4tapqo0000001588241832893&qH=2ef7ed4d594bca91\n",
      "/khadi-organique-kills-99-99-germs-infection-without-water-triple-action-formula-sanitizes-hands-ph-balanced-nourishes-skin-hand-sanitizer-bottle/p/itm309fac708effa?pid=HWSFPWUG6NGUFRKN&lid=LSTHWSFPWUG6NGUFRKNZTM94O&marketplace=FLIPKART&srno=s_1_6&otracker=AS_QueryStore_OrganicAutoSuggest_1_3_na_na_na&otracker1=AS_QueryStore_OrganicAutoSuggest_1_3_na_na_na&fm=organic&iid=df3bb606-c11e-4a22-8e42-b7d7efe6ccdd.HWSFPWUG6NGUFRKN.SEARCH&ssid=11oa4tapqo0000001588241832893&qH=2ef7ed4d594bca91\n",
      "/himalaya-purehands-orange-hand-sanitizer-bottle/p/itmf5dg44v7ajzh7?pid=HWSF5DG4ZUZG9ZAJ&lid=LSTHWSF5DG4ZUZG9ZAJFCN9A6&marketplace=FLIPKART&srno=s_1_7&otracker=AS_QueryStore_OrganicAutoSuggest_1_3_na_na_na&otracker1=AS_QueryStore_OrganicAutoSuggest_1_3_na_na_na&fm=organic&iid=df3bb606-c11e-4a22-8e42-b7d7efe6ccdd.HWSF5DG4ZUZG9ZAJ.SEARCH&ssid=11oa4tapqo0000001588241832893&qH=2ef7ed4d594bca91\n",
      "/himalaya-purehands-orange-hand-sanitizer-bottle/p/itmf5dg44v7ajzh7?pid=HWSF5DG4ZUZG9ZAJ&lid=LSTHWSF5DG4ZUZG9ZAJFCN9A6&marketplace=FLIPKART&srno=s_1_7&otracker=AS_QueryStore_OrganicAutoSuggest_1_3_na_na_na&otracker1=AS_QueryStore_OrganicAutoSuggest_1_3_na_na_na&fm=organic&iid=df3bb606-c11e-4a22-8e42-b7d7efe6ccdd.HWSF5DG4ZUZG9ZAJ.SEARCH&ssid=11oa4tapqo0000001588241832893&qH=2ef7ed4d594bca91\n",
      "/himalaya-purehands-orange-hand-sanitizer-bottle/p/itmf5dg44v7ajzh7?pid=HWSF5DG4ZUZG9ZAJ&lid=LSTHWSF5DG4ZUZG9ZAJFCN9A6&marketplace=FLIPKART&srno=s_1_7&otracker=AS_QueryStore_OrganicAutoSuggest_1_3_na_na_na&otracker1=AS_QueryStore_OrganicAutoSuggest_1_3_na_na_na&fm=organic&iid=df3bb606-c11e-4a22-8e42-b7d7efe6ccdd.HWSF5DG4ZUZG9ZAJ.SEARCH&ssid=11oa4tapqo0000001588241832893&qH=2ef7ed4d594bca91\n",
      "/soberbio-dispenser-bottle-pack-hand-sanitizer/p/itm0d5d6e580ba0a?pid=HWSFPPUPYWYSTGPT&lid=LSTHWSFPPUPYWYSTGPTT1ICYA&marketplace=FLIPKART&srno=s_1_8&otracker=AS_QueryStore_OrganicAutoSuggest_1_3_na_na_na&otracker1=AS_QueryStore_OrganicAutoSuggest_1_3_na_na_na&fm=organic&iid=df3bb606-c11e-4a22-8e42-b7d7efe6ccdd.HWSFPPUPYWYSTGPT.SEARCH&ssid=11oa4tapqo0000001588241832893&qH=2ef7ed4d594bca91\n",
      "/soberbio-dispenser-bottle-pack-hand-sanitizer/p/itm0d5d6e580ba0a?pid=HWSFPPUPYWYSTGPT&lid=LSTHWSFPPUPYWYSTGPTT1ICYA&marketplace=FLIPKART&srno=s_1_8&otracker=AS_QueryStore_OrganicAutoSuggest_1_3_na_na_na&otracker1=AS_QueryStore_OrganicAutoSuggest_1_3_na_na_na&fm=organic&iid=df3bb606-c11e-4a22-8e42-b7d7efe6ccdd.HWSFPPUPYWYSTGPT.SEARCH&ssid=11oa4tapqo0000001588241832893&qH=2ef7ed4d594bca91\n",
      "/soberbio-dispenser-bottle-pack-hand-sanitizer/p/itm0d5d6e580ba0a?pid=HWSFPPUPYWYSTGPT&lid=LSTHWSFPPUPYWYSTGPTT1ICYA&marketplace=FLIPKART&srno=s_1_8&otracker=AS_QueryStore_OrganicAutoSuggest_1_3_na_na_na&otracker1=AS_QueryStore_OrganicAutoSuggest_1_3_na_na_na&fm=organic&iid=df3bb606-c11e-4a22-8e42-b7d7efe6ccdd.HWSFPPUPYWYSTGPT.SEARCH&ssid=11oa4tapqo0000001588241832893&qH=2ef7ed4d594bca91\n",
      "/mediker-instantly-kills-99-9-germs-without-water-hand-sanitizer-bottle/p/itm40bfa262d1562?pid=HWSFQK8FKHUSTTZU&lid=LSTHWSFQK8FKHUSTTZUOYRBOX&marketplace=FLIPKART&srno=s_1_9&otracker=AS_QueryStore_OrganicAutoSuggest_1_3_na_na_na&otracker1=AS_QueryStore_OrganicAutoSuggest_1_3_na_na_na&fm=organic&iid=df3bb606-c11e-4a22-8e42-b7d7efe6ccdd.HWSFQK8FKHUSTTZU.SEARCH&ssid=11oa4tapqo0000001588241832893&qH=2ef7ed4d594bca91\n",
      "/mediker-instantly-kills-99-9-germs-without-water-hand-sanitizer-bottle/p/itm40bfa262d1562?pid=HWSFQK8FKHUSTTZU&lid=LSTHWSFQK8FKHUSTTZUOYRBOX&marketplace=FLIPKART&srno=s_1_9&otracker=AS_QueryStore_OrganicAutoSuggest_1_3_na_na_na&otracker1=AS_QueryStore_OrganicAutoSuggest_1_3_na_na_na&fm=organic&iid=df3bb606-c11e-4a22-8e42-b7d7efe6ccdd.HWSFQK8FKHUSTTZU.SEARCH&ssid=11oa4tapqo0000001588241832893&qH=2ef7ed4d594bca91\n",
      "/mediker-instantly-kills-99-9-germs-without-water-hand-sanitizer-bottle/p/itm40bfa262d1562?pid=HWSFQK8FKHUSTTZU&lid=LSTHWSFQK8FKHUSTTZUOYRBOX&marketplace=FLIPKART&srno=s_1_9&otracker=AS_QueryStore_OrganicAutoSuggest_1_3_na_na_na&otracker1=AS_QueryStore_OrganicAutoSuggest_1_3_na_na_na&fm=organic&iid=df3bb606-c11e-4a22-8e42-b7d7efe6ccdd.HWSFQK8FKHUSTTZU.SEARCH&ssid=11oa4tapqo0000001588241832893&qH=2ef7ed4d594bca91\n",
      "/nyle-5l-hand-sanitizer-bottle/p/itme21ed3c459aac?pid=HWSFQC5QUSN3DMMG&lid=LSTHWSFQC5QUSN3DMMGLRABYF&marketplace=FLIPKART&srno=s_1_10&otracker=AS_QueryStore_OrganicAutoSuggest_1_3_na_na_na&otracker1=AS_QueryStore_OrganicAutoSuggest_1_3_na_na_na&fm=organic&iid=df3bb606-c11e-4a22-8e42-b7d7efe6ccdd.HWSFQC5QUSN3DMMG.SEARCH&ssid=11oa4tapqo0000001588241832893&qH=2ef7ed4d594bca91\n",
      "/nyle-5l-hand-sanitizer-bottle/p/itme21ed3c459aac?pid=HWSFQC5QUSN3DMMG&lid=LSTHWSFQC5QUSN3DMMGLRABYF&marketplace=FLIPKART&srno=s_1_10&otracker=AS_QueryStore_OrganicAutoSuggest_1_3_na_na_na&otracker1=AS_QueryStore_OrganicAutoSuggest_1_3_na_na_na&fm=organic&iid=df3bb606-c11e-4a22-8e42-b7d7efe6ccdd.HWSFQC5QUSN3DMMG.SEARCH&ssid=11oa4tapqo0000001588241832893&qH=2ef7ed4d594bca91\n",
      "/nyle-5l-hand-sanitizer-bottle/p/itme21ed3c459aac?pid=HWSFQC5QUSN3DMMG&lid=LSTHWSFQC5QUSN3DMMGLRABYF&marketplace=FLIPKART&srno=s_1_10&otracker=AS_QueryStore_OrganicAutoSuggest_1_3_na_na_na&otracker1=AS_QueryStore_OrganicAutoSuggest_1_3_na_na_na&fm=organic&iid=df3bb606-c11e-4a22-8e42-b7d7efe6ccdd.HWSFQC5QUSN3DMMG.SEARCH&ssid=11oa4tapqo0000001588241832893&qH=2ef7ed4d594bca91\n",
      "/flipkart-smartbuy-health-plus-hand-sanitiser/p/itme94c260262002?pid=HWSFQ2YWDUD6PWKZ&lid=LSTHWSFQ2YWDUD6PWKZJOL4PG&marketplace=FLIPKART&srno=s_1_11&otracker=AS_QueryStore_OrganicAutoSuggest_1_3_na_na_na&otracker1=AS_QueryStore_OrganicAutoSuggest_1_3_na_na_na&fm=organic&iid=df3bb606-c11e-4a22-8e42-b7d7efe6ccdd.HWSFQ2YWDUD6PWKZ.SEARCH&ssid=11oa4tapqo0000001588241832893&qH=2ef7ed4d594bca91\n",
      "/flipkart-smartbuy-health-plus-hand-sanitiser/p/itme94c260262002?pid=HWSFQ2YWDUD6PWKZ&lid=LSTHWSFQ2YWDUD6PWKZJOL4PG&marketplace=FLIPKART&srno=s_1_11&otracker=AS_QueryStore_OrganicAutoSuggest_1_3_na_na_na&otracker1=AS_QueryStore_OrganicAutoSuggest_1_3_na_na_na&fm=organic&iid=df3bb606-c11e-4a22-8e42-b7d7efe6ccdd.HWSFQ2YWDUD6PWKZ.SEARCH&ssid=11oa4tapqo0000001588241832893&qH=2ef7ed4d594bca91\n",
      "/flipkart-smartbuy-health-plus-hand-sanitiser/p/itme94c260262002?pid=HWSFQ2YWDUD6PWKZ&lid=LSTHWSFQ2YWDUD6PWKZJOL4PG&marketplace=FLIPKART&srno=s_1_11&otracker=AS_QueryStore_OrganicAutoSuggest_1_3_na_na_na&otracker1=AS_QueryStore_OrganicAutoSuggest_1_3_na_na_na&fm=organic&iid=df3bb606-c11e-4a22-8e42-b7d7efe6ccdd.HWSFQ2YWDUD6PWKZ.SEARCH&ssid=11oa4tapqo0000001588241832893&qH=2ef7ed4d594bca91\n",
      "/dabur-hand-sanitizing-rub-sanitizer-bottle/p/itmb6870cb5726c0?pid=HWSFQEMYRT5HBGJC&lid=LSTHWSFQEMYRT5HBGJCMG4ATQ&marketplace=FLIPKART&spotlightTagId=BestsellerId_g9b%2Fema%2Frhm%2Fjrn&srno=s_1_12&otracker=AS_QueryStore_OrganicAutoSuggest_1_3_na_na_na&otracker1=AS_QueryStore_OrganicAutoSuggest_1_3_na_na_na&fm=organic&iid=df3bb606-c11e-4a22-8e42-b7d7efe6ccdd.HWSFQEMYRT5HBGJC.SEARCH&ssid=11oa4tapqo0000001588241832893&qH=2ef7ed4d594bca91\n",
      "/dabur-hand-sanitizing-rub-sanitizer-bottle/p/itmb6870cb5726c0?pid=HWSFQEMYRT5HBGJC&lid=LSTHWSFQEMYRT5HBGJCMG4ATQ&marketplace=FLIPKART&spotlightTagId=BestsellerId_g9b%2Fema%2Frhm%2Fjrn&srno=s_1_12&otracker=AS_QueryStore_OrganicAutoSuggest_1_3_na_na_na&otracker1=AS_QueryStore_OrganicAutoSuggest_1_3_na_na_na&fm=organic&iid=df3bb606-c11e-4a22-8e42-b7d7efe6ccdd.HWSFQEMYRT5HBGJC.SEARCH&ssid=11oa4tapqo0000001588241832893&qH=2ef7ed4d594bca91\n",
      "/dabur-hand-sanitizing-rub-sanitizer-bottle/p/itmb6870cb5726c0?pid=HWSFQEMYRT5HBGJC&lid=LSTHWSFQEMYRT5HBGJCMG4ATQ&marketplace=FLIPKART&spotlightTagId=BestsellerId_g9b%2Fema%2Frhm%2Fjrn&srno=s_1_12&otracker=AS_QueryStore_OrganicAutoSuggest_1_3_na_na_na&otracker1=AS_QueryStore_OrganicAutoSuggest_1_3_na_na_na&fm=organic&iid=df3bb606-c11e-4a22-8e42-b7d7efe6ccdd.HWSFQEMYRT5HBGJC.SEARCH&ssid=11oa4tapqo0000001588241832893&qH=2ef7ed4d594bca91\n",
      "/lifebuoy-total-hand-sanitizer-bottle/p/itmdf12981cbaf60?pid=HWSFQ6HXX3UMJFG2&lid=LSTHWSFQ6HXX3UMJFG2LE77AN&marketplace=FLIPKART&srno=s_1_13&otracker=AS_QueryStore_OrganicAutoSuggest_1_3_na_na_na&otracker1=AS_QueryStore_OrganicAutoSuggest_1_3_na_na_na&fm=organic&iid=df3bb606-c11e-4a22-8e42-b7d7efe6ccdd.HWSFQ6HXX3UMJFG2.SEARCH&ssid=11oa4tapqo0000001588241832893&qH=2ef7ed4d594bca91\n",
      "/lifebuoy-total-hand-sanitizer-bottle/p/itmdf12981cbaf60?pid=HWSFQ6HXX3UMJFG2&lid=LSTHWSFQ6HXX3UMJFG2LE77AN&marketplace=FLIPKART&srno=s_1_13&otracker=AS_QueryStore_OrganicAutoSuggest_1_3_na_na_na&otracker1=AS_QueryStore_OrganicAutoSuggest_1_3_na_na_na&fm=organic&iid=df3bb606-c11e-4a22-8e42-b7d7efe6ccdd.HWSFQ6HXX3UMJFG2.SEARCH&ssid=11oa4tapqo0000001588241832893&qH=2ef7ed4d594bca91\n",
      "/lifebuoy-total-hand-sanitizer-bottle/p/itmdf12981cbaf60?pid=HWSFQ6HXX3UMJFG2&lid=LSTHWSFQ6HXX3UMJFG2LE77AN&marketplace=FLIPKART&srno=s_1_13&otracker=AS_QueryStore_OrganicAutoSuggest_1_3_na_na_na&otracker1=AS_QueryStore_OrganicAutoSuggest_1_3_na_na_na&fm=organic&iid=df3bb606-c11e-4a22-8e42-b7d7efe6ccdd.HWSFQ6HXX3UMJFG2.SEARCH&ssid=11oa4tapqo0000001588241832893&qH=2ef7ed4d594bca91\n",
      "/lifebuoy-total-sanitizer-hand-pump-dispenser/p/itmf1a5e89209cf7?pid=HWSFQ6HXGQNTWTWP&lid=LSTHWSFQ6HXGQNTWTWPT0OK7S&marketplace=FLIPKART&srno=s_1_14&otracker=AS_QueryStore_OrganicAutoSuggest_1_3_na_na_na&otracker1=AS_QueryStore_OrganicAutoSuggest_1_3_na_na_na&fm=organic&iid=df3bb606-c11e-4a22-8e42-b7d7efe6ccdd.HWSFQ6HXGQNTWTWP.SEARCH&ssid=11oa4tapqo0000001588241832893&qH=2ef7ed4d594bca91\n",
      "/lifebuoy-total-sanitizer-hand-pump-dispenser/p/itmf1a5e89209cf7?pid=HWSFQ6HXGQNTWTWP&lid=LSTHWSFQ6HXGQNTWTWPT0OK7S&marketplace=FLIPKART&srno=s_1_14&otracker=AS_QueryStore_OrganicAutoSuggest_1_3_na_na_na&otracker1=AS_QueryStore_OrganicAutoSuggest_1_3_na_na_na&fm=organic&iid=df3bb606-c11e-4a22-8e42-b7d7efe6ccdd.HWSFQ6HXGQNTWTWP.SEARCH&ssid=11oa4tapqo0000001588241832893&qH=2ef7ed4d594bca91\n",
      "/lifebuoy-total-sanitizer-hand-pump-dispenser/p/itmf1a5e89209cf7?pid=HWSFQ6HXGQNTWTWP&lid=LSTHWSFQ6HXGQNTWTWPT0OK7S&marketplace=FLIPKART&srno=s_1_14&otracker=AS_QueryStore_OrganicAutoSuggest_1_3_na_na_na&otracker1=AS_QueryStore_OrganicAutoSuggest_1_3_na_na_na&fm=organic&iid=df3bb606-c11e-4a22-8e42-b7d7efe6ccdd.HWSFQ6HXGQNTWTWP.SEARCH&ssid=11oa4tapqo0000001588241832893&qH=2ef7ed4d594bca91\n",
      "/zavers-bio-naturals-hand-cleanser-gel-super-saver-refill-handrub-sanitizer-pouch/p/itm8101edcb64a7b?pid=HWSFPUJKS6VBXFVC&lid=LSTHWSFPUJKS6VBXFVCM6ZH3F&marketplace=FLIPKART&srno=s_1_15&otracker=AS_QueryStore_OrganicAutoSuggest_1_3_na_na_na&otracker1=AS_QueryStore_OrganicAutoSuggest_1_3_na_na_na&fm=organic&iid=df3bb606-c11e-4a22-8e42-b7d7efe6ccdd.HWSFPUJKS6VBXFVC.SEARCH&ssid=11oa4tapqo0000001588241832893&qH=2ef7ed4d594bca91\n",
      "/zavers-bio-naturals-hand-cleanser-gel-super-saver-refill-handrub-sanitizer-pouch/p/itm8101edcb64a7b?pid=HWSFPUJKS6VBXFVC&lid=LSTHWSFPUJKS6VBXFVCM6ZH3F&marketplace=FLIPKART&srno=s_1_15&otracker=AS_QueryStore_OrganicAutoSuggest_1_3_na_na_na&otracker1=AS_QueryStore_OrganicAutoSuggest_1_3_na_na_na&fm=organic&iid=df3bb606-c11e-4a22-8e42-b7d7efe6ccdd.HWSFPUJKS6VBXFVC.SEARCH&ssid=11oa4tapqo0000001588241832893&qH=2ef7ed4d594bca91\n",
      "/zavers-bio-naturals-hand-cleanser-gel-super-saver-refill-handrub-sanitizer-pouch/p/itm8101edcb64a7b?pid=HWSFPUJKS6VBXFVC&lid=LSTHWSFPUJKS6VBXFVCM6ZH3F&marketplace=FLIPKART&srno=s_1_15&otracker=AS_QueryStore_OrganicAutoSuggest_1_3_na_na_na&otracker1=AS_QueryStore_OrganicAutoSuggest_1_3_na_na_na&fm=organic&iid=df3bb606-c11e-4a22-8e42-b7d7efe6ccdd.HWSFPUJKS6VBXFVC.SEARCH&ssid=11oa4tapqo0000001588241832893&qH=2ef7ed4d594bca91\n",
      "/ayurdaily-anti-bacterial-hand-sanitizer-bottle/p/itm7d18e87bfe4ab?pid=HWSFPNYCFHXB6GPY&lid=LSTHWSFPNYCFHXB6GPY5VW732&marketplace=FLIPKART&srno=s_1_16&otracker=AS_QueryStore_OrganicAutoSuggest_1_3_na_na_na&otracker1=AS_QueryStore_OrganicAutoSuggest_1_3_na_na_na&fm=organic&iid=df3bb606-c11e-4a22-8e42-b7d7efe6ccdd.HWSFPNYCFHXB6GPY.SEARCH&ssid=11oa4tapqo0000001588241832893&qH=2ef7ed4d594bca91\n",
      "/ayurdaily-anti-bacterial-hand-sanitizer-bottle/p/itm7d18e87bfe4ab?pid=HWSFPNYCFHXB6GPY&lid=LSTHWSFPNYCFHXB6GPY5VW732&marketplace=FLIPKART&srno=s_1_16&otracker=AS_QueryStore_OrganicAutoSuggest_1_3_na_na_na&otracker1=AS_QueryStore_OrganicAutoSuggest_1_3_na_na_na&fm=organic&iid=df3bb606-c11e-4a22-8e42-b7d7efe6ccdd.HWSFPNYCFHXB6GPY.SEARCH&ssid=11oa4tapqo0000001588241832893&qH=2ef7ed4d594bca91\n",
      "/ayurdaily-anti-bacterial-hand-sanitizer-bottle/p/itm7d18e87bfe4ab?pid=HWSFPNYCFHXB6GPY&lid=LSTHWSFPNYCFHXB6GPY5VW732&marketplace=FLIPKART&srno=s_1_16&otracker=AS_QueryStore_OrganicAutoSuggest_1_3_na_na_na&otracker1=AS_QueryStore_OrganicAutoSuggest_1_3_na_na_na&fm=organic&iid=df3bb606-c11e-4a22-8e42-b7d7efe6ccdd.HWSFPNYCFHXB6GPY.SEARCH&ssid=11oa4tapqo0000001588241832893&qH=2ef7ed4d594bca91\n",
      "/nutriglow-natural-s-tea-tree-aloe-vera-rinse-free-hand-rub-kills-99-99-germs-sanitizer-bottle/p/itm826304e4e0907?pid=HWSFQGW2JHPFMCEW&lid=LSTHWSFQGW2JHPFMCEWHOERGB&marketplace=FLIPKART&srno=s_1_17&otracker=AS_QueryStore_OrganicAutoSuggest_1_3_na_na_na&otracker1=AS_QueryStore_OrganicAutoSuggest_1_3_na_na_na&fm=organic&iid=df3bb606-c11e-4a22-8e42-b7d7efe6ccdd.HWSFQGW2JHPFMCEW.SEARCH&ssid=11oa4tapqo0000001588241832893&qH=2ef7ed4d594bca91\n",
      "/nutriglow-natural-s-tea-tree-aloe-vera-rinse-free-hand-rub-kills-99-99-germs-sanitizer-bottle/p/itm826304e4e0907?pid=HWSFQGW2JHPFMCEW&lid=LSTHWSFQGW2JHPFMCEWHOERGB&marketplace=FLIPKART&srno=s_1_17&otracker=AS_QueryStore_OrganicAutoSuggest_1_3_na_na_na&otracker1=AS_QueryStore_OrganicAutoSuggest_1_3_na_na_na&fm=organic&iid=df3bb606-c11e-4a22-8e42-b7d7efe6ccdd.HWSFQGW2JHPFMCEW.SEARCH&ssid=11oa4tapqo0000001588241832893&qH=2ef7ed4d594bca91\n",
      "/nutriglow-natural-s-tea-tree-aloe-vera-rinse-free-hand-rub-kills-99-99-germs-sanitizer-bottle/p/itm826304e4e0907?pid=HWSFQGW2JHPFMCEW&lid=LSTHWSFQGW2JHPFMCEWHOERGB&marketplace=FLIPKART&srno=s_1_17&otracker=AS_QueryStore_OrganicAutoSuggest_1_3_na_na_na&otracker1=AS_QueryStore_OrganicAutoSuggest_1_3_na_na_na&fm=organic&iid=df3bb606-c11e-4a22-8e42-b7d7efe6ccdd.HWSFQGW2JHPFMCEW.SEARCH&ssid=11oa4tapqo0000001588241832893&qH=2ef7ed4d594bca91\n",
      "/nutriglow-natural-s-juicy-real-orange-portable-rinse-free-hand-rub-kills-99-99-germs-sanitizer-bottle/p/itm3921570d3fab1?pid=HWSFQNF9FKRWZTTK&lid=LSTHWSFQNF9FKRWZTTKGVSQOB&marketplace=FLIPKART&srno=s_1_18&otracker=AS_QueryStore_OrganicAutoSuggest_1_3_na_na_na&otracker1=AS_QueryStore_OrganicAutoSuggest_1_3_na_na_na&fm=organic&iid=df3bb606-c11e-4a22-8e42-b7d7efe6ccdd.HWSFQNF9FKRWZTTK.SEARCH&ssid=11oa4tapqo0000001588241832893&qH=2ef7ed4d594bca91\n",
      "/nutriglow-natural-s-juicy-real-orange-portable-rinse-free-hand-rub-kills-99-99-germs-sanitizer-bottle/p/itm3921570d3fab1?pid=HWSFQNF9FKRWZTTK&lid=LSTHWSFQNF9FKRWZTTKGVSQOB&marketplace=FLIPKART&srno=s_1_18&otracker=AS_QueryStore_OrganicAutoSuggest_1_3_na_na_na&otracker1=AS_QueryStore_OrganicAutoSuggest_1_3_na_na_na&fm=organic&iid=df3bb606-c11e-4a22-8e42-b7d7efe6ccdd.HWSFQNF9FKRWZTTK.SEARCH&ssid=11oa4tapqo0000001588241832893&qH=2ef7ed4d594bca91\n",
      "/nutriglow-natural-s-juicy-real-orange-portable-rinse-free-hand-rub-kills-99-99-germs-sanitizer-bottle/p/itm3921570d3fab1?pid=HWSFQNF9FKRWZTTK&lid=LSTHWSFQNF9FKRWZTTKGVSQOB&marketplace=FLIPKART&srno=s_1_18&otracker=AS_QueryStore_OrganicAutoSuggest_1_3_na_na_na&otracker1=AS_QueryStore_OrganicAutoSuggest_1_3_na_na_na&fm=organic&iid=df3bb606-c11e-4a22-8e42-b7d7efe6ccdd.HWSFQNF9FKRWZTTK.SEARCH&ssid=11oa4tapqo0000001588241832893&qH=2ef7ed4d594bca91\n",
      "/soberbio-refill-bottle-pack-hand-sanitizer/p/itmba5a5ebed783c?pid=HWSFPPYJ3ABEUZNB&lid=LSTHWSFPPYJ3ABEUZNB2MXWOU&marketplace=FLIPKART&srno=s_1_19&otracker=AS_QueryStore_OrganicAutoSuggest_1_3_na_na_na&otracker1=AS_QueryStore_OrganicAutoSuggest_1_3_na_na_na&fm=organic&iid=df3bb606-c11e-4a22-8e42-b7d7efe6ccdd.HWSFPPYJ3ABEUZNB.SEARCH&ssid=11oa4tapqo0000001588241832893&qH=2ef7ed4d594bca91\n",
      "/soberbio-refill-bottle-pack-hand-sanitizer/p/itmba5a5ebed783c?pid=HWSFPPYJ3ABEUZNB&lid=LSTHWSFPPYJ3ABEUZNB2MXWOU&marketplace=FLIPKART&srno=s_1_19&otracker=AS_QueryStore_OrganicAutoSuggest_1_3_na_na_na&otracker1=AS_QueryStore_OrganicAutoSuggest_1_3_na_na_na&fm=organic&iid=df3bb606-c11e-4a22-8e42-b7d7efe6ccdd.HWSFPPYJ3ABEUZNB.SEARCH&ssid=11oa4tapqo0000001588241832893&qH=2ef7ed4d594bca91\n",
      "/soberbio-refill-bottle-pack-hand-sanitizer/p/itmba5a5ebed783c?pid=HWSFPPYJ3ABEUZNB&lid=LSTHWSFPPYJ3ABEUZNB2MXWOU&marketplace=FLIPKART&srno=s_1_19&otracker=AS_QueryStore_OrganicAutoSuggest_1_3_na_na_na&otracker1=AS_QueryStore_OrganicAutoSuggest_1_3_na_na_na&fm=organic&iid=df3bb606-c11e-4a22-8e42-b7d7efe6ccdd.HWSFPPYJ3ABEUZNB.SEARCH&ssid=11oa4tapqo0000001588241832893&qH=2ef7ed4d594bca91\n",
      "/surjichem-advanced-aloevera-lemon-hand-sanitizer-bottle/p/itmc9117d78f602c?pid=HWSFQSWTCEZP4H36&lid=LSTHWSFQSWTCEZP4H3670IBST&marketplace=FLIPKART&spotlightTagId=TrendingId_g9b%2Fema%2Frhm%2Fjrn&srno=s_1_20&otracker=AS_QueryStore_OrganicAutoSuggest_1_3_na_na_na&otracker1=AS_QueryStore_OrganicAutoSuggest_1_3_na_na_na&fm=organic&iid=df3bb606-c11e-4a22-8e42-b7d7efe6ccdd.HWSFQSWTCEZP4H36.SEARCH&ssid=11oa4tapqo0000001588241832893&qH=2ef7ed4d594bca91\n",
      "/surjichem-advanced-aloevera-lemon-hand-sanitizer-bottle/p/itmc9117d78f602c?pid=HWSFQSWTCEZP4H36&lid=LSTHWSFQSWTCEZP4H3670IBST&marketplace=FLIPKART&spotlightTagId=TrendingId_g9b%2Fema%2Frhm%2Fjrn&srno=s_1_20&otracker=AS_QueryStore_OrganicAutoSuggest_1_3_na_na_na&otracker1=AS_QueryStore_OrganicAutoSuggest_1_3_na_na_na&fm=organic&iid=df3bb606-c11e-4a22-8e42-b7d7efe6ccdd.HWSFQSWTCEZP4H36.SEARCH&ssid=11oa4tapqo0000001588241832893&qH=2ef7ed4d594bca91\n",
      "/surjichem-advanced-aloevera-lemon-hand-sanitizer-bottle/p/itmc9117d78f602c?pid=HWSFQSWTCEZP4H36&lid=LSTHWSFQSWTCEZP4H3670IBST&marketplace=FLIPKART&spotlightTagId=TrendingId_g9b%2Fema%2Frhm%2Fjrn&srno=s_1_20&otracker=AS_QueryStore_OrganicAutoSuggest_1_3_na_na_na&otracker1=AS_QueryStore_OrganicAutoSuggest_1_3_na_na_na&fm=organic&iid=df3bb606-c11e-4a22-8e42-b7d7efe6ccdd.HWSFQSWTCEZP4H36.SEARCH&ssid=11oa4tapqo0000001588241832893&qH=2ef7ed4d594bca91\n",
      "/surjichem-advanced-aloevera-lemon-pack-5-hand-sanitizer-bottle/p/itm990e947c436f3?pid=HWSFQT3HPGBCFMNY&lid=LSTHWSFQT3HPGBCFMNYLARXGM&marketplace=FLIPKART&srno=s_1_21&otracker=AS_QueryStore_OrganicAutoSuggest_1_3_na_na_na&otracker1=AS_QueryStore_OrganicAutoSuggest_1_3_na_na_na&fm=organic&iid=df3bb606-c11e-4a22-8e42-b7d7efe6ccdd.HWSFQT3HPGBCFMNY.SEARCH&ssid=11oa4tapqo0000001588241832893&qH=2ef7ed4d594bca91\n",
      "/surjichem-advanced-aloevera-lemon-pack-5-hand-sanitizer-bottle/p/itm990e947c436f3?pid=HWSFQT3HPGBCFMNY&lid=LSTHWSFQT3HPGBCFMNYLARXGM&marketplace=FLIPKART&srno=s_1_21&otracker=AS_QueryStore_OrganicAutoSuggest_1_3_na_na_na&otracker1=AS_QueryStore_OrganicAutoSuggest_1_3_na_na_na&fm=organic&iid=df3bb606-c11e-4a22-8e42-b7d7efe6ccdd.HWSFQT3HPGBCFMNY.SEARCH&ssid=11oa4tapqo0000001588241832893&qH=2ef7ed4d594bca91\n",
      "/surjichem-advanced-aloevera-lemon-pack-5-hand-sanitizer-bottle/p/itm990e947c436f3?pid=HWSFQT3HPGBCFMNY&lid=LSTHWSFQT3HPGBCFMNYLARXGM&marketplace=FLIPKART&srno=s_1_21&otracker=AS_QueryStore_OrganicAutoSuggest_1_3_na_na_na&otracker1=AS_QueryStore_OrganicAutoSuggest_1_3_na_na_na&fm=organic&iid=df3bb606-c11e-4a22-8e42-b7d7efe6ccdd.HWSFQT3HPGBCFMNY.SEARCH&ssid=11oa4tapqo0000001588241832893&qH=2ef7ed4d594bca91\n",
      "/alcamy-advanced-vitamin-rich-aloe-vera-gel-hand-sanitizer-bottle/p/itmb674c27cacb19?pid=HWSFQRFEADENYUK2&lid=LSTHWSFQRFEADENYUK2D7YYSZ&marketplace=FLIPKART&srno=s_1_22&otracker=AS_QueryStore_OrganicAutoSuggest_1_3_na_na_na&otracker1=AS_QueryStore_OrganicAutoSuggest_1_3_na_na_na&fm=organic&iid=df3bb606-c11e-4a22-8e42-b7d7efe6ccdd.HWSFQRFEADENYUK2.SEARCH&ssid=11oa4tapqo0000001588241832893&qH=2ef7ed4d594bca91\n",
      "/alcamy-advanced-vitamin-rich-aloe-vera-gel-hand-sanitizer-bottle/p/itmb674c27cacb19?pid=HWSFQRFEADENYUK2&lid=LSTHWSFQRFEADENYUK2D7YYSZ&marketplace=FLIPKART&srno=s_1_22&otracker=AS_QueryStore_OrganicAutoSuggest_1_3_na_na_na&otracker1=AS_QueryStore_OrganicAutoSuggest_1_3_na_na_na&fm=organic&iid=df3bb606-c11e-4a22-8e42-b7d7efe6ccdd.HWSFQRFEADENYUK2.SEARCH&ssid=11oa4tapqo0000001588241832893&qH=2ef7ed4d594bca91\n",
      "/alcamy-advanced-vitamin-rich-aloe-vera-gel-hand-sanitizer-bottle/p/itmb674c27cacb19?pid=HWSFQRFEADENYUK2&lid=LSTHWSFQRFEADENYUK2D7YYSZ&marketplace=FLIPKART&srno=s_1_22&otracker=AS_QueryStore_OrganicAutoSuggest_1_3_na_na_na&otracker1=AS_QueryStore_OrganicAutoSuggest_1_3_na_na_na&fm=organic&iid=df3bb606-c11e-4a22-8e42-b7d7efe6ccdd.HWSFQRFEADENYUK2.SEARCH&ssid=11oa4tapqo0000001588241832893&qH=2ef7ed4d594bca91\n",
      "/zavers-bio-naturals-cleanser-gel-handrub-combo-pack-100-ml-plus-900ml-refill-hand-sanitizer-pouch/p/itm8d52960ff770b?pid=HWSFPVHAZZ6MGBGK&lid=LSTHWSFPVHAZZ6MGBGK65QFQU&marketplace=FLIPKART&srno=s_1_23&otracker=AS_QueryStore_OrganicAutoSuggest_1_3_na_na_na&otracker1=AS_QueryStore_OrganicAutoSuggest_1_3_na_na_na&fm=organic&iid=df3bb606-c11e-4a22-8e42-b7d7efe6ccdd.HWSFPVHAZZ6MGBGK.SEARCH&ssid=11oa4tapqo0000001588241832893&qH=2ef7ed4d594bca91\n",
      "/zavers-bio-naturals-cleanser-gel-handrub-combo-pack-100-ml-plus-900ml-refill-hand-sanitizer-pouch/p/itm8d52960ff770b?pid=HWSFPVHAZZ6MGBGK&lid=LSTHWSFPVHAZZ6MGBGK65QFQU&marketplace=FLIPKART&srno=s_1_23&otracker=AS_QueryStore_OrganicAutoSuggest_1_3_na_na_na&otracker1=AS_QueryStore_OrganicAutoSuggest_1_3_na_na_na&fm=organic&iid=df3bb606-c11e-4a22-8e42-b7d7efe6ccdd.HWSFPVHAZZ6MGBGK.SEARCH&ssid=11oa4tapqo0000001588241832893&qH=2ef7ed4d594bca91\n",
      "/zavers-bio-naturals-cleanser-gel-handrub-combo-pack-100-ml-plus-900ml-refill-hand-sanitizer-pouch/p/itm8d52960ff770b?pid=HWSFPVHAZZ6MGBGK&lid=LSTHWSFPVHAZZ6MGBGK65QFQU&marketplace=FLIPKART&srno=s_1_23&otracker=AS_QueryStore_OrganicAutoSuggest_1_3_na_na_na&otracker1=AS_QueryStore_OrganicAutoSuggest_1_3_na_na_na&fm=organic&iid=df3bb606-c11e-4a22-8e42-b7d7efe6ccdd.HWSFPVHAZZ6MGBGK.SEARCH&ssid=11oa4tapqo0000001588241832893&qH=2ef7ed4d594bca91\n",
      "/bello-hand-sanitize-pack-2-100ml-no-alcohol-over-drying-sanitizer-bottle/p/itmea09ebd7db28a?pid=HWSFPHFDY9ER82ZG&lid=LSTHWSFPHFDY9ER82ZGHDIJKS&marketplace=FLIPKART&srno=s_1_24&otracker=AS_QueryStore_OrganicAutoSuggest_1_3_na_na_na&otracker1=AS_QueryStore_OrganicAutoSuggest_1_3_na_na_na&fm=organic&iid=df3bb606-c11e-4a22-8e42-b7d7efe6ccdd.HWSFPHFDY9ER82ZG.SEARCH&ssid=11oa4tapqo0000001588241832893&qH=2ef7ed4d594bca91\n",
      "/bello-hand-sanitize-pack-2-100ml-no-alcohol-over-drying-sanitizer-bottle/p/itmea09ebd7db28a?pid=HWSFPHFDY9ER82ZG&lid=LSTHWSFPHFDY9ER82ZGHDIJKS&marketplace=FLIPKART&srno=s_1_24&otracker=AS_QueryStore_OrganicAutoSuggest_1_3_na_na_na&otracker1=AS_QueryStore_OrganicAutoSuggest_1_3_na_na_na&fm=organic&iid=df3bb606-c11e-4a22-8e42-b7d7efe6ccdd.HWSFPHFDY9ER82ZG.SEARCH&ssid=11oa4tapqo0000001588241832893&qH=2ef7ed4d594bca91\n",
      "/bello-hand-sanitize-pack-2-100ml-no-alcohol-over-drying-sanitizer-bottle/p/itmea09ebd7db28a?pid=HWSFPHFDY9ER82ZG&lid=LSTHWSFPHFDY9ER82ZGHDIJKS&marketplace=FLIPKART&srno=s_1_24&otracker=AS_QueryStore_OrganicAutoSuggest_1_3_na_na_na&otracker1=AS_QueryStore_OrganicAutoSuggest_1_3_na_na_na&fm=organic&iid=df3bb606-c11e-4a22-8e42-b7d7efe6ccdd.HWSFPHFDY9ER82ZG.SEARCH&ssid=11oa4tapqo0000001588241832893&qH=2ef7ed4d594bca91\n",
      "/dermease-100-gauranteed-germ-free-hand-pack-2-sanitizer-pump-dispenser/p/itm2c0782f2da47e?pid=HWSFPBRWJ624RDPM&lid=LSTHWSFPBRWJ624RDPMZ7ISXG&marketplace=FLIPKART&srno=s_1_25&otracker=AS_QueryStore_OrganicAutoSuggest_1_3_na_na_na&otracker1=AS_QueryStore_OrganicAutoSuggest_1_3_na_na_na&fm=organic&iid=df3bb606-c11e-4a22-8e42-b7d7efe6ccdd.HWSFPBRWJ624RDPM.SEARCH&ssid=11oa4tapqo0000001588241832893&qH=2ef7ed4d594bca91\n",
      "/dermease-100-gauranteed-germ-free-hand-pack-2-sanitizer-pump-dispenser/p/itm2c0782f2da47e?pid=HWSFPBRWJ624RDPM&lid=LSTHWSFPBRWJ624RDPMZ7ISXG&marketplace=FLIPKART&srno=s_1_25&otracker=AS_QueryStore_OrganicAutoSuggest_1_3_na_na_na&otracker1=AS_QueryStore_OrganicAutoSuggest_1_3_na_na_na&fm=organic&iid=df3bb606-c11e-4a22-8e42-b7d7efe6ccdd.HWSFPBRWJ624RDPM.SEARCH&ssid=11oa4tapqo0000001588241832893&qH=2ef7ed4d594bca91\n",
      "/dermease-100-gauranteed-germ-free-hand-pack-2-sanitizer-pump-dispenser/p/itm2c0782f2da47e?pid=HWSFPBRWJ624RDPM&lid=LSTHWSFPBRWJ624RDPMZ7ISXG&marketplace=FLIPKART&srno=s_1_25&otracker=AS_QueryStore_OrganicAutoSuggest_1_3_na_na_na&otracker1=AS_QueryStore_OrganicAutoSuggest_1_3_na_na_na&fm=organic&iid=df3bb606-c11e-4a22-8e42-b7d7efe6ccdd.HWSFPBRWJ624RDPM.SEARCH&ssid=11oa4tapqo0000001588241832893&qH=2ef7ed4d594bca91\n",
      "/dermease-100-gauranteed-germ-free-hand-pack-6-50ml-each-sanitizer-bottle/p/itmb2272b1bb608c?pid=HWSFPNTWBAFZ8EAB&lid=LSTHWSFPNTWBAFZ8EABTWRLQC&marketplace=FLIPKART&srno=s_1_26&otracker=AS_QueryStore_OrganicAutoSuggest_1_3_na_na_na&otracker1=AS_QueryStore_OrganicAutoSuggest_1_3_na_na_na&fm=organic&iid=df3bb606-c11e-4a22-8e42-b7d7efe6ccdd.HWSFPNTWBAFZ8EAB.SEARCH&ssid=11oa4tapqo0000001588241832893&qH=2ef7ed4d594bca91\n",
      "/dermease-100-gauranteed-germ-free-hand-pack-6-50ml-each-sanitizer-bottle/p/itmb2272b1bb608c?pid=HWSFPNTWBAFZ8EAB&lid=LSTHWSFPNTWBAFZ8EABTWRLQC&marketplace=FLIPKART&srno=s_1_26&otracker=AS_QueryStore_OrganicAutoSuggest_1_3_na_na_na&otracker1=AS_QueryStore_OrganicAutoSuggest_1_3_na_na_na&fm=organic&iid=df3bb606-c11e-4a22-8e42-b7d7efe6ccdd.HWSFPNTWBAFZ8EAB.SEARCH&ssid=11oa4tapqo0000001588241832893&qH=2ef7ed4d594bca91\n",
      "/dermease-100-gauranteed-germ-free-hand-pack-6-50ml-each-sanitizer-bottle/p/itmb2272b1bb608c?pid=HWSFPNTWBAFZ8EAB&lid=LSTHWSFPNTWBAFZ8EABTWRLQC&marketplace=FLIPKART&srno=s_1_26&otracker=AS_QueryStore_OrganicAutoSuggest_1_3_na_na_na&otracker1=AS_QueryStore_OrganicAutoSuggest_1_3_na_na_na&fm=organic&iid=df3bb606-c11e-4a22-8e42-b7d7efe6ccdd.HWSFPNTWBAFZ8EAB.SEARCH&ssid=11oa4tapqo0000001588241832893&qH=2ef7ed4d594bca91\n",
      "/dermease-hand-wash-sanitizer-500ml-pump-dispenser/p/itmf105f1f7822b9?pid=HWSFPTBYTNT64YAA&lid=LSTHWSFPTBYTNT64YAALRZ5LU&marketplace=FLIPKART&srno=s_1_27&otracker=AS_QueryStore_OrganicAutoSuggest_1_3_na_na_na&otracker1=AS_QueryStore_OrganicAutoSuggest_1_3_na_na_na&fm=organic&iid=df3bb606-c11e-4a22-8e42-b7d7efe6ccdd.HWSFPTBYTNT64YAA.SEARCH&ssid=11oa4tapqo0000001588241832893&qH=2ef7ed4d594bca91\n",
      "/dermease-hand-wash-sanitizer-500ml-pump-dispenser/p/itmf105f1f7822b9?pid=HWSFPTBYTNT64YAA&lid=LSTHWSFPTBYTNT64YAALRZ5LU&marketplace=FLIPKART&srno=s_1_27&otracker=AS_QueryStore_OrganicAutoSuggest_1_3_na_na_na&otracker1=AS_QueryStore_OrganicAutoSuggest_1_3_na_na_na&fm=organic&iid=df3bb606-c11e-4a22-8e42-b7d7efe6ccdd.HWSFPTBYTNT64YAA.SEARCH&ssid=11oa4tapqo0000001588241832893&qH=2ef7ed4d594bca91\n",
      "/dermease-hand-wash-sanitizer-500ml-pump-dispenser/p/itmf105f1f7822b9?pid=HWSFPTBYTNT64YAA&lid=LSTHWSFPTBYTNT64YAALRZ5LU&marketplace=FLIPKART&srno=s_1_27&otracker=AS_QueryStore_OrganicAutoSuggest_1_3_na_na_na&otracker1=AS_QueryStore_OrganicAutoSuggest_1_3_na_na_na&fm=organic&iid=df3bb606-c11e-4a22-8e42-b7d7efe6ccdd.HWSFPTBYTNT64YAA.SEARCH&ssid=11oa4tapqo0000001588241832893&qH=2ef7ed4d594bca91\n",
      "/tej-hand-clean-waterless-500ml-sanitizer-pump-dispenser/p/itmdf033f19abc4f?pid=HWSFPHNZZTFHRQBE&lid=LSTHWSFPHNZZTFHRQBETF4PM3&marketplace=FLIPKART&srno=s_1_28&otracker=AS_QueryStore_OrganicAutoSuggest_1_3_na_na_na&otracker1=AS_QueryStore_OrganicAutoSuggest_1_3_na_na_na&fm=organic&iid=df3bb606-c11e-4a22-8e42-b7d7efe6ccdd.HWSFPHNZZTFHRQBE.SEARCH&ssid=11oa4tapqo0000001588241832893&qH=2ef7ed4d594bca91\n",
      "/tej-hand-clean-waterless-500ml-sanitizer-pump-dispenser/p/itmdf033f19abc4f?pid=HWSFPHNZZTFHRQBE&lid=LSTHWSFPHNZZTFHRQBETF4PM3&marketplace=FLIPKART&srno=s_1_28&otracker=AS_QueryStore_OrganicAutoSuggest_1_3_na_na_na&otracker1=AS_QueryStore_OrganicAutoSuggest_1_3_na_na_na&fm=organic&iid=df3bb606-c11e-4a22-8e42-b7d7efe6ccdd.HWSFPHNZZTFHRQBE.SEARCH&ssid=11oa4tapqo0000001588241832893&qH=2ef7ed4d594bca91\n",
      "/tej-hand-clean-waterless-500ml-sanitizer-pump-dispenser/p/itmdf033f19abc4f?pid=HWSFPHNZZTFHRQBE&lid=LSTHWSFPHNZZTFHRQBETF4PM3&marketplace=FLIPKART&srno=s_1_28&otracker=AS_QueryStore_OrganicAutoSuggest_1_3_na_na_na&otracker1=AS_QueryStore_OrganicAutoSuggest_1_3_na_na_na&fm=organic&iid=df3bb606-c11e-4a22-8e42-b7d7efe6ccdd.HWSFPHNZZTFHRQBE.SEARCH&ssid=11oa4tapqo0000001588241832893&qH=2ef7ed4d594bca91\n",
      "/mexico-hand-sanitizer-gel-lotion-bottle/p/itma3154b8fb57d6?pid=HWSFPS8A5HZWEQ6F&lid=LSTHWSFPS8A5HZWEQ6FGUY8CN&marketplace=FLIPKART&spotlightTagId=TrendingId_g9b%2Fema%2Frhm%2Fjrn&srno=s_1_29&otracker=AS_QueryStore_OrganicAutoSuggest_1_3_na_na_na&otracker1=AS_QueryStore_OrganicAutoSuggest_1_3_na_na_na&fm=organic&iid=df3bb606-c11e-4a22-8e42-b7d7efe6ccdd.HWSFPS8A5HZWEQ6F.SEARCH&ssid=11oa4tapqo0000001588241832893&qH=2ef7ed4d594bca91\n",
      "/mexico-hand-sanitizer-gel-lotion-bottle/p/itma3154b8fb57d6?pid=HWSFPS8A5HZWEQ6F&lid=LSTHWSFPS8A5HZWEQ6FGUY8CN&marketplace=FLIPKART&spotlightTagId=TrendingId_g9b%2Fema%2Frhm%2Fjrn&srno=s_1_29&otracker=AS_QueryStore_OrganicAutoSuggest_1_3_na_na_na&otracker1=AS_QueryStore_OrganicAutoSuggest_1_3_na_na_na&fm=organic&iid=df3bb606-c11e-4a22-8e42-b7d7efe6ccdd.HWSFPS8A5HZWEQ6F.SEARCH&ssid=11oa4tapqo0000001588241832893&qH=2ef7ed4d594bca91\n",
      "/mexico-hand-sanitizer-gel-lotion-bottle/p/itma3154b8fb57d6?pid=HWSFPS8A5HZWEQ6F&lid=LSTHWSFPS8A5HZWEQ6FGUY8CN&marketplace=FLIPKART&spotlightTagId=TrendingId_g9b%2Fema%2Frhm%2Fjrn&srno=s_1_29&otracker=AS_QueryStore_OrganicAutoSuggest_1_3_na_na_na&otracker1=AS_QueryStore_OrganicAutoSuggest_1_3_na_na_na&fm=organic&iid=df3bb606-c11e-4a22-8e42-b7d7efe6ccdd.HWSFPS8A5HZWEQ6F.SEARCH&ssid=11oa4tapqo0000001588241832893&qH=2ef7ed4d594bca91\n",
      "/arista-hand-sanitizer-bottle/p/itm2a0d14cd05a6d?pid=HWSFHZH6ADKN5ZJU&lid=LSTHWSFHZH6ADKN5ZJURGWU27&marketplace=FLIPKART&srno=s_1_30&otracker=AS_QueryStore_OrganicAutoSuggest_1_3_na_na_na&otracker1=AS_QueryStore_OrganicAutoSuggest_1_3_na_na_na&fm=organic&iid=df3bb606-c11e-4a22-8e42-b7d7efe6ccdd.HWSFHZH6ADKN5ZJU.SEARCH&ssid=11oa4tapqo0000001588241832893&qH=2ef7ed4d594bca91\n",
      "/arista-hand-sanitizer-bottle/p/itm2a0d14cd05a6d?pid=HWSFHZH6ADKN5ZJU&lid=LSTHWSFHZH6ADKN5ZJURGWU27&marketplace=FLIPKART&srno=s_1_30&otracker=AS_QueryStore_OrganicAutoSuggest_1_3_na_na_na&otracker1=AS_QueryStore_OrganicAutoSuggest_1_3_na_na_na&fm=organic&iid=df3bb606-c11e-4a22-8e42-b7d7efe6ccdd.HWSFHZH6ADKN5ZJU.SEARCH&ssid=11oa4tapqo0000001588241832893&qH=2ef7ed4d594bca91\n",
      "/arista-hand-sanitizer-bottle/p/itm2a0d14cd05a6d?pid=HWSFHZH6ADKN5ZJU&lid=LSTHWSFHZH6ADKN5ZJURGWU27&marketplace=FLIPKART&srno=s_1_30&otracker=AS_QueryStore_OrganicAutoSuggest_1_3_na_na_na&otracker1=AS_QueryStore_OrganicAutoSuggest_1_3_na_na_na&fm=organic&iid=df3bb606-c11e-4a22-8e42-b7d7efe6ccdd.HWSFHZH6ADKN5ZJU.SEARCH&ssid=11oa4tapqo0000001588241832893&qH=2ef7ed4d594bca91\n",
      "/kronokare-bye-bacteria-320-ml-hand-sanitizer-pump-dispenser/p/itmfhjh2nh2yered?pid=HWSFHJJHHHUQJG9T&lid=LSTHWSFHJJHHHUQJG9TQJKPDH&marketplace=FLIPKART&srno=s_1_31&otracker=AS_QueryStore_OrganicAutoSuggest_1_3_na_na_na&otracker1=AS_QueryStore_OrganicAutoSuggest_1_3_na_na_na&fm=organic&iid=df3bb606-c11e-4a22-8e42-b7d7efe6ccdd.HWSFHJJHHHUQJG9T.SEARCH&ssid=11oa4tapqo0000001588241832893&qH=2ef7ed4d594bca91\n",
      "/kronokare-bye-bacteria-320-ml-hand-sanitizer-pump-dispenser/p/itmfhjh2nh2yered?pid=HWSFHJJHHHUQJG9T&lid=LSTHWSFHJJHHHUQJG9TQJKPDH&marketplace=FLIPKART&srno=s_1_31&otracker=AS_QueryStore_OrganicAutoSuggest_1_3_na_na_na&otracker1=AS_QueryStore_OrganicAutoSuggest_1_3_na_na_na&fm=organic&iid=df3bb606-c11e-4a22-8e42-b7d7efe6ccdd.HWSFHJJHHHUQJG9T.SEARCH&ssid=11oa4tapqo0000001588241832893&qH=2ef7ed4d594bca91\n",
      "/kronokare-bye-bacteria-320-ml-hand-sanitizer-pump-dispenser/p/itmfhjh2nh2yered?pid=HWSFHJJHHHUQJG9T&lid=LSTHWSFHJJHHHUQJG9TQJKPDH&marketplace=FLIPKART&srno=s_1_31&otracker=AS_QueryStore_OrganicAutoSuggest_1_3_na_na_na&otracker1=AS_QueryStore_OrganicAutoSuggest_1_3_na_na_na&fm=organic&iid=df3bb606-c11e-4a22-8e42-b7d7efe6ccdd.HWSFHJJHHHUQJG9T.SEARCH&ssid=11oa4tapqo0000001588241832893&qH=2ef7ed4d594bca91\n",
      "/morvin-india-germi-q-hand-sanitizer-bottle/p/itmd0264979df421?pid=HWSFPUGTNUYJV2DM&lid=LSTHWSFPUGTNUYJV2DM02GASZ&marketplace=FLIPKART&srno=s_1_32&otracker=AS_QueryStore_OrganicAutoSuggest_1_3_na_na_na&otracker1=AS_QueryStore_OrganicAutoSuggest_1_3_na_na_na&fm=organic&iid=df3bb606-c11e-4a22-8e42-b7d7efe6ccdd.HWSFPUGTNUYJV2DM.SEARCH&ssid=11oa4tapqo0000001588241832893&qH=2ef7ed4d594bca91\n",
      "/morvin-india-germi-q-hand-sanitizer-bottle/p/itmd0264979df421?pid=HWSFPUGTNUYJV2DM&lid=LSTHWSFPUGTNUYJV2DM02GASZ&marketplace=FLIPKART&srno=s_1_32&otracker=AS_QueryStore_OrganicAutoSuggest_1_3_na_na_na&otracker1=AS_QueryStore_OrganicAutoSuggest_1_3_na_na_na&fm=organic&iid=df3bb606-c11e-4a22-8e42-b7d7efe6ccdd.HWSFPUGTNUYJV2DM.SEARCH&ssid=11oa4tapqo0000001588241832893&qH=2ef7ed4d594bca91\n",
      "/morvin-india-germi-q-hand-sanitizer-bottle/p/itmd0264979df421?pid=HWSFPUGTNUYJV2DM&lid=LSTHWSFPUGTNUYJV2DM02GASZ&marketplace=FLIPKART&srno=s_1_32&otracker=AS_QueryStore_OrganicAutoSuggest_1_3_na_na_na&otracker1=AS_QueryStore_OrganicAutoSuggest_1_3_na_na_na&fm=organic&iid=df3bb606-c11e-4a22-8e42-b7d7efe6ccdd.HWSFPUGTNUYJV2DM.SEARCH&ssid=11oa4tapqo0000001588241832893&qH=2ef7ed4d594bca91\n",
      "/tej-hand-clean-waterless-100ml-x-5-sanitizer-bottle/p/itm870588b7fa078?pid=HWSFPUKRRZCY8FSY&lid=LSTHWSFPUKRRZCY8FSYCDJUCV&marketplace=FLIPKART&srno=s_1_33&otracker=AS_QueryStore_OrganicAutoSuggest_1_3_na_na_na&otracker1=AS_QueryStore_OrganicAutoSuggest_1_3_na_na_na&fm=organic&iid=df3bb606-c11e-4a22-8e42-b7d7efe6ccdd.HWSFPUKRRZCY8FSY.SEARCH&ssid=11oa4tapqo0000001588241832893&qH=2ef7ed4d594bca91\n",
      "/tej-hand-clean-waterless-100ml-x-5-sanitizer-bottle/p/itm870588b7fa078?pid=HWSFPUKRRZCY8FSY&lid=LSTHWSFPUKRRZCY8FSYCDJUCV&marketplace=FLIPKART&srno=s_1_33&otracker=AS_QueryStore_OrganicAutoSuggest_1_3_na_na_na&otracker1=AS_QueryStore_OrganicAutoSuggest_1_3_na_na_na&fm=organic&iid=df3bb606-c11e-4a22-8e42-b7d7efe6ccdd.HWSFPUKRRZCY8FSY.SEARCH&ssid=11oa4tapqo0000001588241832893&qH=2ef7ed4d594bca91\n",
      "/tej-hand-clean-waterless-100ml-x-5-sanitizer-bottle/p/itm870588b7fa078?pid=HWSFPUKRRZCY8FSY&lid=LSTHWSFPUKRRZCY8FSYCDJUCV&marketplace=FLIPKART&srno=s_1_33&otracker=AS_QueryStore_OrganicAutoSuggest_1_3_na_na_na&otracker1=AS_QueryStore_OrganicAutoSuggest_1_3_na_na_na&fm=organic&iid=df3bb606-c11e-4a22-8e42-b7d7efe6ccdd.HWSFPUKRRZCY8FSY.SEARCH&ssid=11oa4tapqo0000001588241832893&qH=2ef7ed4d594bca91\n",
      "/superfox-5000ml-hand-sanitizer-bottle/p/itmb483741ac30d4?pid=HWSFMKYN6V3KWHWX&lid=LSTHWSFMKYN6V3KWHWXYENM2I&marketplace=FLIPKART&srno=s_1_34&otracker=AS_QueryStore_OrganicAutoSuggest_1_3_na_na_na&otracker1=AS_QueryStore_OrganicAutoSuggest_1_3_na_na_na&fm=organic&iid=df3bb606-c11e-4a22-8e42-b7d7efe6ccdd.HWSFMKYN6V3KWHWX.SEARCH&ssid=11oa4tapqo0000001588241832893&qH=2ef7ed4d594bca91\n",
      "/superfox-5000ml-hand-sanitizer-bottle/p/itmb483741ac30d4?pid=HWSFMKYN6V3KWHWX&lid=LSTHWSFMKYN6V3KWHWXYENM2I&marketplace=FLIPKART&srno=s_1_34&otracker=AS_QueryStore_OrganicAutoSuggest_1_3_na_na_na&otracker1=AS_QueryStore_OrganicAutoSuggest_1_3_na_na_na&fm=organic&iid=df3bb606-c11e-4a22-8e42-b7d7efe6ccdd.HWSFMKYN6V3KWHWX.SEARCH&ssid=11oa4tapqo0000001588241832893&qH=2ef7ed4d594bca91\n",
      "/superfox-5000ml-hand-sanitizer-bottle/p/itmb483741ac30d4?pid=HWSFMKYN6V3KWHWX&lid=LSTHWSFMKYN6V3KWHWXYENM2I&marketplace=FLIPKART&srno=s_1_34&otracker=AS_QueryStore_OrganicAutoSuggest_1_3_na_na_na&otracker1=AS_QueryStore_OrganicAutoSuggest_1_3_na_na_na&fm=organic&iid=df3bb606-c11e-4a22-8e42-b7d7efe6ccdd.HWSFMKYN6V3KWHWX.SEARCH&ssid=11oa4tapqo0000001588241832893&qH=2ef7ed4d594bca91\n",
      "/venture-instant-anti-bacterial-500-ml-pack-2-hand-sanitizer-pump-dispenser/p/itm726f4f0259e53?pid=HWSFPAZW9HBKKHHG&lid=LSTHWSFPAZW9HBKKHHGLG1MFP&marketplace=FLIPKART&srno=s_1_35&otracker=AS_QueryStore_OrganicAutoSuggest_1_3_na_na_na&otracker1=AS_QueryStore_OrganicAutoSuggest_1_3_na_na_na&fm=organic&iid=df3bb606-c11e-4a22-8e42-b7d7efe6ccdd.HWSFPAZW9HBKKHHG.SEARCH&ssid=11oa4tapqo0000001588241832893&qH=2ef7ed4d594bca91\n",
      "/venture-instant-anti-bacterial-500-ml-pack-2-hand-sanitizer-pump-dispenser/p/itm726f4f0259e53?pid=HWSFPAZW9HBKKHHG&lid=LSTHWSFPAZW9HBKKHHGLG1MFP&marketplace=FLIPKART&srno=s_1_35&otracker=AS_QueryStore_OrganicAutoSuggest_1_3_na_na_na&otracker1=AS_QueryStore_OrganicAutoSuggest_1_3_na_na_na&fm=organic&iid=df3bb606-c11e-4a22-8e42-b7d7efe6ccdd.HWSFPAZW9HBKKHHG.SEARCH&ssid=11oa4tapqo0000001588241832893&qH=2ef7ed4d594bca91\n",
      "/venture-instant-anti-bacterial-500-ml-pack-2-hand-sanitizer-pump-dispenser/p/itm726f4f0259e53?pid=HWSFPAZW9HBKKHHG&lid=LSTHWSFPAZW9HBKKHHGLG1MFP&marketplace=FLIPKART&srno=s_1_35&otracker=AS_QueryStore_OrganicAutoSuggest_1_3_na_na_na&otracker1=AS_QueryStore_OrganicAutoSuggest_1_3_na_na_na&fm=organic&iid=df3bb606-c11e-4a22-8e42-b7d7efe6ccdd.HWSFPAZW9HBKKHHG.SEARCH&ssid=11oa4tapqo0000001588241832893&qH=2ef7ed4d594bca91\n",
      "/tej-hand-clean-waterless-5ltr-sanitizer-bottle/p/itm2ed879d24153b?pid=HWSFPUKFNJMQBZQW&lid=LSTHWSFPUKFNJMQBZQWVIWROJ&marketplace=FLIPKART&srno=s_1_36&otracker=AS_QueryStore_OrganicAutoSuggest_1_3_na_na_na&otracker1=AS_QueryStore_OrganicAutoSuggest_1_3_na_na_na&fm=organic&iid=df3bb606-c11e-4a22-8e42-b7d7efe6ccdd.HWSFPUKFNJMQBZQW.SEARCH&ssid=11oa4tapqo0000001588241832893&qH=2ef7ed4d594bca91\n",
      "/tej-hand-clean-waterless-5ltr-sanitizer-bottle/p/itm2ed879d24153b?pid=HWSFPUKFNJMQBZQW&lid=LSTHWSFPUKFNJMQBZQWVIWROJ&marketplace=FLIPKART&srno=s_1_36&otracker=AS_QueryStore_OrganicAutoSuggest_1_3_na_na_na&otracker1=AS_QueryStore_OrganicAutoSuggest_1_3_na_na_na&fm=organic&iid=df3bb606-c11e-4a22-8e42-b7d7efe6ccdd.HWSFPUKFNJMQBZQW.SEARCH&ssid=11oa4tapqo0000001588241832893&qH=2ef7ed4d594bca91\n",
      "/tej-hand-clean-waterless-5ltr-sanitizer-bottle/p/itm2ed879d24153b?pid=HWSFPUKFNJMQBZQW&lid=LSTHWSFPUKFNJMQBZQWVIWROJ&marketplace=FLIPKART&srno=s_1_36&otracker=AS_QueryStore_OrganicAutoSuggest_1_3_na_na_na&otracker1=AS_QueryStore_OrganicAutoSuggest_1_3_na_na_na&fm=organic&iid=df3bb606-c11e-4a22-8e42-b7d7efe6ccdd.HWSFPUKFNJMQBZQW.SEARCH&ssid=11oa4tapqo0000001588241832893&qH=2ef7ed4d594bca91\n",
      "/venture-pf859-instant-antibacterial-pack-500-ml-50-hand-sanitizer-bottle/p/itm7918cb3f9fdbc?pid=HWSFPAHCHMGYSTXC&lid=LSTHWSFPAHCHMGYSTXCPKYYX9&marketplace=FLIPKART&srno=s_1_37&otracker=AS_QueryStore_OrganicAutoSuggest_1_3_na_na_na&otracker1=AS_QueryStore_OrganicAutoSuggest_1_3_na_na_na&fm=organic&iid=df3bb606-c11e-4a22-8e42-b7d7efe6ccdd.HWSFPAHCHMGYSTXC.SEARCH&ssid=11oa4tapqo0000001588241832893&qH=2ef7ed4d594bca91\n",
      "/venture-pf859-instant-antibacterial-pack-500-ml-50-hand-sanitizer-bottle/p/itm7918cb3f9fdbc?pid=HWSFPAHCHMGYSTXC&lid=LSTHWSFPAHCHMGYSTXCPKYYX9&marketplace=FLIPKART&srno=s_1_37&otracker=AS_QueryStore_OrganicAutoSuggest_1_3_na_na_na&otracker1=AS_QueryStore_OrganicAutoSuggest_1_3_na_na_na&fm=organic&iid=df3bb606-c11e-4a22-8e42-b7d7efe6ccdd.HWSFPAHCHMGYSTXC.SEARCH&ssid=11oa4tapqo0000001588241832893&qH=2ef7ed4d594bca91\n",
      "/venture-pf859-instant-antibacterial-pack-500-ml-50-hand-sanitizer-bottle/p/itm7918cb3f9fdbc?pid=HWSFPAHCHMGYSTXC&lid=LSTHWSFPAHCHMGYSTXCPKYYX9&marketplace=FLIPKART&srno=s_1_37&otracker=AS_QueryStore_OrganicAutoSuggest_1_3_na_na_na&otracker1=AS_QueryStore_OrganicAutoSuggest_1_3_na_na_na&fm=organic&iid=df3bb606-c11e-4a22-8e42-b7d7efe6ccdd.HWSFPAHCHMGYSTXC.SEARCH&ssid=11oa4tapqo0000001588241832893&qH=2ef7ed4d594bca91\n",
      "/sterlomax-pack-4-75-isopropyl-alcohol-based-hand-rub-sanitizer-disinfectant-500-ml-bottle/p/itmfcd2cd6b60beb?pid=HWSFQQYAKDFHQVJQ&lid=LSTHWSFQQYAKDFHQVJQTFEKXW&marketplace=FLIPKART&srno=s_1_38&otracker=AS_QueryStore_OrganicAutoSuggest_1_3_na_na_na&otracker1=AS_QueryStore_OrganicAutoSuggest_1_3_na_na_na&fm=organic&iid=df3bb606-c11e-4a22-8e42-b7d7efe6ccdd.HWSFQQYAKDFHQVJQ.SEARCH&ssid=11oa4tapqo0000001588241832893&qH=2ef7ed4d594bca91\n",
      "/sterlomax-pack-4-75-isopropyl-alcohol-based-hand-rub-sanitizer-disinfectant-500-ml-bottle/p/itmfcd2cd6b60beb?pid=HWSFQQYAKDFHQVJQ&lid=LSTHWSFQQYAKDFHQVJQTFEKXW&marketplace=FLIPKART&srno=s_1_38&otracker=AS_QueryStore_OrganicAutoSuggest_1_3_na_na_na&otracker1=AS_QueryStore_OrganicAutoSuggest_1_3_na_na_na&fm=organic&iid=df3bb606-c11e-4a22-8e42-b7d7efe6ccdd.HWSFQQYAKDFHQVJQ.SEARCH&ssid=11oa4tapqo0000001588241832893&qH=2ef7ed4d594bca91\n",
      "/sterlomax-pack-4-75-isopropyl-alcohol-based-hand-rub-sanitizer-disinfectant-500-ml-bottle/p/itmfcd2cd6b60beb?pid=HWSFQQYAKDFHQVJQ&lid=LSTHWSFQQYAKDFHQVJQTFEKXW&marketplace=FLIPKART&srno=s_1_38&otracker=AS_QueryStore_OrganicAutoSuggest_1_3_na_na_na&otracker1=AS_QueryStore_OrganicAutoSuggest_1_3_na_na_na&fm=organic&iid=df3bb606-c11e-4a22-8e42-b7d7efe6ccdd.HWSFQQYAKDFHQVJQ.SEARCH&ssid=11oa4tapqo0000001588241832893&qH=2ef7ed4d594bca91\n",
      "/sterlomax-pack-2-75-isopropyl-alcohol-based-hand-rub-sanitizer-disinfectant-500-ml-bottle/p/itm7c71280bda0b8?pid=HWSFQQYA9GPNHSMB&lid=LSTHWSFQQYA9GPNHSMBWX45CJ&marketplace=FLIPKART&srno=s_1_39&otracker=AS_QueryStore_OrganicAutoSuggest_1_3_na_na_na&otracker1=AS_QueryStore_OrganicAutoSuggest_1_3_na_na_na&fm=organic&iid=df3bb606-c11e-4a22-8e42-b7d7efe6ccdd.HWSFQQYA9GPNHSMB.SEARCH&ssid=11oa4tapqo0000001588241832893&qH=2ef7ed4d594bca91\n",
      "/sterlomax-pack-2-75-isopropyl-alcohol-based-hand-rub-sanitizer-disinfectant-500-ml-bottle/p/itm7c71280bda0b8?pid=HWSFQQYA9GPNHSMB&lid=LSTHWSFQQYA9GPNHSMBWX45CJ&marketplace=FLIPKART&srno=s_1_39&otracker=AS_QueryStore_OrganicAutoSuggest_1_3_na_na_na&otracker1=AS_QueryStore_OrganicAutoSuggest_1_3_na_na_na&fm=organic&iid=df3bb606-c11e-4a22-8e42-b7d7efe6ccdd.HWSFQQYA9GPNHSMB.SEARCH&ssid=11oa4tapqo0000001588241832893&qH=2ef7ed4d594bca91\n",
      "/sterlomax-pack-2-75-isopropyl-alcohol-based-hand-rub-sanitizer-disinfectant-500-ml-bottle/p/itm7c71280bda0b8?pid=HWSFQQYA9GPNHSMB&lid=LSTHWSFQQYA9GPNHSMBWX45CJ&marketplace=FLIPKART&srno=s_1_39&otracker=AS_QueryStore_OrganicAutoSuggest_1_3_na_na_na&otracker1=AS_QueryStore_OrganicAutoSuggest_1_3_na_na_na&fm=organic&iid=df3bb606-c11e-4a22-8e42-b7d7efe6ccdd.HWSFQQYA9GPNHSMB.SEARCH&ssid=11oa4tapqo0000001588241832893&qH=2ef7ed4d594bca91\n",
      "/ayurdaily-khadi-anti-bacterial-hand-sanitizer-bottle/p/itmc84c449f66bdd?pid=HWSFPNNBQWAYRENP&lid=LSTHWSFPNNBQWAYRENPFUE5RE&marketplace=FLIPKART&srno=s_1_40&otracker=AS_QueryStore_OrganicAutoSuggest_1_3_na_na_na&otracker1=AS_QueryStore_OrganicAutoSuggest_1_3_na_na_na&fm=organic&iid=df3bb606-c11e-4a22-8e42-b7d7efe6ccdd.HWSFPNNBQWAYRENP.SEARCH&ssid=11oa4tapqo0000001588241832893&qH=2ef7ed4d594bca91\n",
      "/ayurdaily-khadi-anti-bacterial-hand-sanitizer-bottle/p/itmc84c449f66bdd?pid=HWSFPNNBQWAYRENP&lid=LSTHWSFPNNBQWAYRENPFUE5RE&marketplace=FLIPKART&srno=s_1_40&otracker=AS_QueryStore_OrganicAutoSuggest_1_3_na_na_na&otracker1=AS_QueryStore_OrganicAutoSuggest_1_3_na_na_na&fm=organic&iid=df3bb606-c11e-4a22-8e42-b7d7efe6ccdd.HWSFPNNBQWAYRENP.SEARCH&ssid=11oa4tapqo0000001588241832893&qH=2ef7ed4d594bca91\n",
      "/ayurdaily-khadi-anti-bacterial-hand-sanitizer-bottle/p/itmc84c449f66bdd?pid=HWSFPNNBQWAYRENP&lid=LSTHWSFPNNBQWAYRENPFUE5RE&marketplace=FLIPKART&srno=s_1_40&otracker=AS_QueryStore_OrganicAutoSuggest_1_3_na_na_na&otracker1=AS_QueryStore_OrganicAutoSuggest_1_3_na_na_na&fm=organic&iid=df3bb606-c11e-4a22-8e42-b7d7efe6ccdd.HWSFPNNBQWAYRENP.SEARCH&ssid=11oa4tapqo0000001588241832893&qH=2ef7ed4d594bca91\n",
      "/search?q=sanitizer&sid=g9b%2Cema%2Crhm%2Cjrn&as=on&as-show=on&otracker=AS_QueryStore_OrganicAutoSuggest_1_3_na_na_na&otracker1=AS_QueryStore_OrganicAutoSuggest_1_3_na_na_na&as-pos=1&as-type=HISTORY&suggestionId=sanitizer%7CHand+Sanitizer&requestId=0dbd35b0-1bcb-4853-9cb3-a5267cdaea1e&page=1\n",
      "/search?q=sanitizer&sid=g9b%2Cema%2Crhm%2Cjrn&as=on&as-show=on&otracker=AS_QueryStore_OrganicAutoSuggest_1_3_na_na_na&otracker1=AS_QueryStore_OrganicAutoSuggest_1_3_na_na_na&as-pos=1&as-type=HISTORY&suggestionId=sanitizer%7CHand+Sanitizer&requestId=0dbd35b0-1bcb-4853-9cb3-a5267cdaea1e&page=2\n",
      "/search?q=sanitizer&sid=g9b%2Cema%2Crhm%2Cjrn&as=on&as-show=on&otracker=AS_QueryStore_OrganicAutoSuggest_1_3_na_na_na&otracker1=AS_QueryStore_OrganicAutoSuggest_1_3_na_na_na&as-pos=1&as-type=HISTORY&suggestionId=sanitizer%7CHand+Sanitizer&requestId=0dbd35b0-1bcb-4853-9cb3-a5267cdaea1e&page=3\n",
      "/search?q=sanitizer&sid=g9b%2Cema%2Crhm%2Cjrn&as=on&as-show=on&otracker=AS_QueryStore_OrganicAutoSuggest_1_3_na_na_na&otracker1=AS_QueryStore_OrganicAutoSuggest_1_3_na_na_na&as-pos=1&as-type=HISTORY&suggestionId=sanitizer%7CHand+Sanitizer&requestId=0dbd35b0-1bcb-4853-9cb3-a5267cdaea1e&page=4\n",
      "/search?q=sanitizer&sid=g9b%2Cema%2Crhm%2Cjrn&as=on&as-show=on&otracker=AS_QueryStore_OrganicAutoSuggest_1_3_na_na_na&otracker1=AS_QueryStore_OrganicAutoSuggest_1_3_na_na_na&as-pos=1&as-type=HISTORY&suggestionId=sanitizer%7CHand+Sanitizer&requestId=0dbd35b0-1bcb-4853-9cb3-a5267cdaea1e&page=5\n",
      "/search?q=sanitizer&sid=g9b%2Cema%2Crhm%2Cjrn&as=on&as-show=on&otracker=AS_QueryStore_OrganicAutoSuggest_1_3_na_na_na&otracker1=AS_QueryStore_OrganicAutoSuggest_1_3_na_na_na&as-pos=1&as-type=HISTORY&suggestionId=sanitizer%7CHand+Sanitizer&requestId=0dbd35b0-1bcb-4853-9cb3-a5267cdaea1e&page=6\n",
      "/search?q=sanitizer&sid=g9b%2Cema%2Crhm%2Cjrn&as=on&as-show=on&otracker=AS_QueryStore_OrganicAutoSuggest_1_3_na_na_na&otracker1=AS_QueryStore_OrganicAutoSuggest_1_3_na_na_na&as-pos=1&as-type=HISTORY&suggestionId=sanitizer%7CHand+Sanitizer&requestId=0dbd35b0-1bcb-4853-9cb3-a5267cdaea1e&page=7\n",
      "/search?q=sanitizer&sid=g9b%2Cema%2Crhm%2Cjrn&as=on&as-show=on&otracker=AS_QueryStore_OrganicAutoSuggest_1_3_na_na_na&otracker1=AS_QueryStore_OrganicAutoSuggest_1_3_na_na_na&as-pos=1&as-type=HISTORY&suggestionId=sanitizer%7CHand+Sanitizer&requestId=0dbd35b0-1bcb-4853-9cb3-a5267cdaea1e&page=8\n",
      "/search?q=sanitizer&sid=g9b%2Cema%2Crhm%2Cjrn&as=on&as-show=on&otracker=AS_QueryStore_OrganicAutoSuggest_1_3_na_na_na&otracker1=AS_QueryStore_OrganicAutoSuggest_1_3_na_na_na&as-pos=1&as-type=HISTORY&suggestionId=sanitizer%7CHand+Sanitizer&requestId=0dbd35b0-1bcb-4853-9cb3-a5267cdaea1e&page=9\n",
      "/search?q=sanitizer&sid=g9b%2Cema%2Crhm%2Cjrn&as=on&as-show=on&otracker=AS_QueryStore_OrganicAutoSuggest_1_3_na_na_na&otracker1=AS_QueryStore_OrganicAutoSuggest_1_3_na_na_na&as-pos=1&as-type=HISTORY&suggestionId=sanitizer%7CHand+Sanitizer&requestId=0dbd35b0-1bcb-4853-9cb3-a5267cdaea1e&page=2\n",
      "/ayurdaily-anti-bacterial-hand-sanitizer-bottle/p/itm7d18e87bfe4ab?pid=HWSFPNYCFHXB6GPY&marketplace=FLIPKART\n",
      "/dermease-100-gauranteed-germ-free-hand-pack-6-50ml-each-sanitizer-bottle/p/itmb2272b1bb608c?pid=HWSFPNTWBAFZ8EAB&marketplace=FLIPKART\n",
      "/qraa-safe-hands-all-kind-flu-virus-anti-bacterial-neem-aloe-vera-extracts-500ml-hand-sanitizer-pump-dispenser/p/itmd1d6e7994377c?pid=HWSFQYA9UGAEZKSX&marketplace=FLIPKART\n",
      "/arista-hand-sanitizer-bottle/p/itm2a0d14cd05a6d?pid=HWSFHZH6ADKN5ZJU&marketplace=FLIPKART\n",
      "/nutriglow-natural-s-tea-tree-aloe-vera-rinse-free-hand-rub-kills-99-99-germs-sanitizer-bottle/p/itm826304e4e0907?pid=HWSFQGW2JHPFMCEW&marketplace=FLIPKART\n",
      "/helpcentre?otracker=undefined_footer_navlinks\n",
      "/about-us?otracker=undefined_footer_navlinks\n",
      "https://www.flipkartcareers.com/?otracker=undefined_footer_navlinks\n",
      "http://stories.flipkart.com/?otracker=undefined_footer_navlinks\n",
      "/s/press?otracker=undefined_footer_navlinks\n",
      "/pages/payments\n",
      "/pages/shipping\n",
      "/helpcentre?catalog=55c9c6edb000002e002c1701&view=CATALOG\n",
      "/helpcentre?catalog=55c9c8e2b0000023002c1702&view=CATALOG\n",
      "https://seller.flipkart.com/fiv?otracker=undefined_footer_navlinks\n",
      "/pages/returnpolicy?otracker=undefined_footer_navlinks\n",
      "/pages/terms?otracker=undefined_footer_navlinks\n",
      "/pages/paymentsecurity?otracker=undefined_footer_navlinks\n",
      "/pages/privacypolicy?otracker=undefined_footer_navlinks\n",
      "/sitemap?otracker=undefined_footer_navlinks\n",
      "/pages/ewaste-compliance-tnc?otracker=undefined_footer_navlinks\n",
      "https://www.facebook.com/flipkart\n",
      "https://www.twitter.com/flipkart\n",
      "https://www.youtube.com/flipkart\n",
      "tel:18002089898\n",
      "https://seller.flipkart.com/?utm_source=fkwebsite&utm_medium=websitedirect\n",
      "https://brands.flipkart.com\n",
      "/account/giftcard?otracker=undefined_footer_footer_navlinks\n",
      "/helpcentre?otracker=undefined_footer_footer_navlinks\n"
     ]
    }
   ],
   "source": [
    "for link in soup.find_all('a'):\n",
    "    print(link.get('href'))"
   ]
  },
  {
   "cell_type": "code",
   "execution_count": 6,
   "metadata": {},
   "outputs": [
    {
     "name": "stdout",
     "output_type": "stream",
     "text": [
      "1\n",
      "2\n",
      "3\n",
      "4\n",
      "5\n",
      "6\n",
      "7\n",
      "8\n",
      "9\n",
      "10\n",
      "11\n",
      "12\n",
      "13\n",
      "14\n",
      "15\n",
      "16\n",
      "17\n",
      "18\n",
      "19\n",
      "20\n",
      "21\n",
      "22\n",
      "23\n",
      "24\n",
      "25\n",
      "26\n",
      "27\n",
      "28\n",
      "29\n",
      "30\n",
      "31\n",
      "32\n",
      "33\n",
      "34\n",
      "35\n",
      "36\n",
      "37\n",
      "38\n",
      "39\n",
      "40\n",
      "41\n",
      "42\n",
      "43\n",
      "44\n",
      "45\n",
      "46\n",
      "47\n",
      "48\n",
      "49\n",
      "50\n",
      "51\n",
      "52\n",
      "53\n",
      "54\n",
      "55\n",
      "56\n",
      "57\n",
      "58\n",
      "59\n",
      "60\n",
      "61\n",
      "62\n",
      "63\n",
      "64\n",
      "65\n",
      "66\n",
      "67\n",
      "68\n",
      "69\n",
      "70\n",
      "71\n",
      "72\n",
      "73\n",
      "74\n",
      "75\n",
      "76\n",
      "77\n",
      "78\n",
      "79\n",
      "80\n",
      "81\n",
      "82\n",
      "83\n",
      "84\n",
      "85\n",
      "86\n",
      "87\n",
      "88\n",
      "89\n",
      "90\n",
      "91\n",
      "92\n",
      "93\n",
      "94\n",
      "95\n",
      "96\n",
      "97\n",
      "98\n",
      "99\n",
      "100\n",
      "101\n",
      "102\n",
      "103\n",
      "104\n",
      "105\n",
      "106\n",
      "107\n",
      "108\n",
      "109\n",
      "110\n",
      "111\n",
      "112\n",
      "113\n",
      "114\n",
      "115\n",
      "116\n",
      "117\n",
      "118\n",
      "119\n",
      "120\n",
      "121\n",
      "122\n",
      "123\n",
      "124\n",
      "125\n"
     ]
    }
   ],
   "source": [
    "# Filter urls which we want and removing all other\n",
    "base_url = 'https://www.flipkart.com'\n",
    "state_links = []\n",
    "for link in soup.find_all('a'):\n",
    "    url = link.get('href')\n",
    "    if url and '=FLIPKART' in url and '/beauty-and-grooming/' not in url:\n",
    "        state_links.append(url)\n",
    "        print(len(state_links))\n",
    "        "
   ]
  },
  {
   "cell_type": "code",
   "execution_count": 11,
   "metadata": {},
   "outputs": [
    {
     "name": "stdout",
     "output_type": "stream",
     "text": [
      "Khadi Organique  kills 99.99% germs and infection without water with triple action formula sanitizes hands, pH balanced, nourishes skin Hand Sanitizer Bottle - Price in India, Buy Khadi Organique  kills 99.99% germs and infection without water with triple action formula sanitizes hands, pH balanced, nourishes skin Hand Sanitizer Bottle Online In India, Reviews, Ratings & Features | Flipkart.com\n"
     ]
    }
   ],
   "source": [
    "# Getting data of one page\n",
    "r = requests.get(base_url + state_links[1])\n",
    "soup = BeautifulSoup(r.text)\n",
    "print(soup.title.string)"
   ]
  },
  {
   "cell_type": "code",
   "execution_count": 19,
   "metadata": {},
   "outputs": [
    {
     "name": "stdout",
     "output_type": "stream",
     "text": [
      "259\n"
     ]
    }
   ],
   "source": [
    "# The data we need is in div tags\n",
    "rows = soup.find_all('div')\n",
    "print(len(rows))"
   ]
  },
  {
   "cell_type": "code",
   "execution_count": 28,
   "metadata": {},
   "outputs": [
    {
     "name": "stdout",
     "output_type": "stream",
     "text": [
      "34\n"
     ]
    },
    {
     "ename": "IndexError",
     "evalue": "list index out of range",
     "output_type": "error",
     "traceback": [
      "\u001b[1;31m---------------------------------------------------------------------------\u001b[0m",
      "\u001b[1;31mIndexError\u001b[0m                                Traceback (most recent call last)",
      "\u001b[1;32m<ipython-input-28-b3651c184143>\u001b[0m in \u001b[0;36m<module>\u001b[1;34m\u001b[0m\n\u001b[0;32m      7\u001b[0m     \u001b[0mdivs\u001b[0m \u001b[1;33m=\u001b[0m \u001b[0mrow\u001b[0m\u001b[1;33m.\u001b[0m\u001b[0mfind_all\u001b[0m\u001b[1;33m(\u001b[0m\u001b[1;34m'div'\u001b[0m\u001b[1;33m)\u001b[0m\u001b[1;33m\u001b[0m\u001b[1;33m\u001b[0m\u001b[0m\n\u001b[0;32m      8\u001b[0m     \u001b[1;32mfor\u001b[0m \u001b[0mi\u001b[0m \u001b[1;32min\u001b[0m \u001b[0mrange\u001b[0m\u001b[1;33m(\u001b[0m\u001b[1;36m0\u001b[0m\u001b[1;33m,\u001b[0m\u001b[1;36m1\u001b[0m\u001b[1;33m)\u001b[0m\u001b[1;33m:\u001b[0m\u001b[1;33m\u001b[0m\u001b[1;33m\u001b[0m\u001b[0m\n\u001b[1;32m----> 9\u001b[1;33m         \u001b[0mnames\u001b[0m\u001b[1;33m.\u001b[0m\u001b[0mappend\u001b[0m\u001b[1;33m(\u001b[0m\u001b[0mdivs\u001b[0m\u001b[1;33m[\u001b[0m\u001b[0mi\u001b[0m\u001b[1;33m]\u001b[0m\u001b[1;33m.\u001b[0m\u001b[0mtext\u001b[0m\u001b[1;33m)\u001b[0m\u001b[1;33m\u001b[0m\u001b[1;33m\u001b[0m\u001b[0m\n\u001b[0m\u001b[0;32m     10\u001b[0m \u001b[0mprint\u001b[0m\u001b[1;33m(\u001b[0m\u001b[0mnames\u001b[0m\u001b[1;33m)\u001b[0m\u001b[1;33m\u001b[0m\u001b[1;33m\u001b[0m\u001b[0m\n",
      "\u001b[1;31mIndexError\u001b[0m: list index out of range"
     ]
    }
   ],
   "source": [
    "# Filter the data which we need from these div tags\n",
    "rows = [row for row in rows if 'Sanitizer' in str(row)]\n",
    "print(len(rows))\n",
    "\n",
    "names = []\n",
    "for row in rows:\n",
    "    divs = row.find_all('div')\n",
    "    for i in range(0,):\n",
    "        names.append(divs[i].text)\n",
    "print(names)"
   ]
  },
  {
   "cell_type": "code",
   "execution_count": null,
   "metadata": {},
   "outputs": [],
   "source": []
  }
 ],
 "metadata": {
  "kernelspec": {
   "display_name": "Python 3",
   "language": "python",
   "name": "python3"
  },
  "language_info": {
   "codemirror_mode": {
    "name": "ipython",
    "version": 3
   },
   "file_extension": ".py",
   "mimetype": "text/x-python",
   "name": "python",
   "nbconvert_exporter": "python",
   "pygments_lexer": "ipython3",
   "version": "3.7.3"
  }
 },
 "nbformat": 4,
 "nbformat_minor": 2
}
