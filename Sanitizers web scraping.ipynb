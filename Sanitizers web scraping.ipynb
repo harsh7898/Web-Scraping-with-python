{
 "cells": [
  {
   "cell_type": "code",
   "execution_count": 1,
   "metadata": {},
   "outputs": [],
   "source": [
    "# Importing libraries\n",
    "from bs4 import BeautifulSoup as soup\n",
    "from urllib.request import urlopen as uReq"
   ]
  },
  {
   "cell_type": "code",
   "execution_count": 2,
   "metadata": {},
   "outputs": [],
   "source": [
    "my_url = \"https://www.flipkart.com/search?q=sanitizer&sid=g9b%2Cema%2Crhm%2Cjrn&as=on&as-show=on&otracker=AS_QueryStore_OrganicAutoSuggest_1_3_na_na_na&otracker1=AS_QueryStore_OrganicAutoSuggest_1_3_na_na_na&as-pos=1&as-type=HISTORY&suggestionId=sanitizer%7CHand+Sanitizer&requestId=0dbd35b0-1bcb-4853-9cb3-a5267cdaea1e\""
   ]
  },
  {
   "cell_type": "code",
   "execution_count": 3,
   "metadata": {},
   "outputs": [],
   "source": [
    "uClient = uReq(my_url)\n",
    "page_html = uClient.read()\n",
    "uClient.close()\n",
    "page_soup = soup(page_html,\"html.parser\")"
   ]
  },
  {
   "cell_type": "code",
   "execution_count": 8,
   "metadata": {},
   "outputs": [
    {
     "name": "stdout",
     "output_type": "stream",
     "text": [
      "40\n"
     ]
    }
   ],
   "source": [
    "# Find no of products on the page which we need to scrape\n",
    "prods = page_soup.findAll(\"div\",{\"class\":\"_3liAhj\"})\n",
    "print(len(prods))"
   ]
  },
  {
   "cell_type": "code",
   "execution_count": 9,
   "metadata": {},
   "outputs": [
    {
     "name": "stdout",
     "output_type": "stream",
     "text": [
      "<div class=\"_3liAhj\">\n",
      " <a class=\"Zhf2z-\" href=\"/khadi-organique-kills-99-99-germs-infection-without-water-triple-action-formula-sanitizes-hands-ph-balanced-nourishes-skin-hand-sanitizer-bottle/p/itm79e535b48c44b?pid=HWSFPYWQZCEQJHTQ&amp;lid=LSTHWSFPYWQZCEQJHTQ2VN54S&amp;marketplace=FLIPKART&amp;srno=s_1_1&amp;otracker=AS_QueryStore_OrganicAutoSuggest_1_3_na_na_na&amp;otracker1=AS_QueryStore_OrganicAutoSuggest_1_3_na_na_na&amp;fm=organic&amp;iid=13159335-5523-40c4-9d8b-239e91ebc263.HWSFPYWQZCEQJHTQ.SEARCH&amp;ssid=kyl4sqayds0000001588427058549&amp;qH=2ef7ed4d594bca91\" rel=\"noopener noreferrer\" target=\"_blank\">\n",
      "  <div style=\"-webkit-filter:grayscale(1);-moz-filter:grayscale(1);-o-filter:grayscale(1);-ms-filter:grayscale(1);filter:grayscale(1);opacity:0.6\">\n",
      "   <div>\n",
      "    <div class=\"_3BTv9X\" style=\"height:280px;width:200px\">\n",
      "     <img alt=\"Khadi Organique  kills 99.99% germs and infection without water with triple action formula sanitizes hands, pH balanced, nourishes skin Hand Sanitizer Bottle\" class=\"_1Nyybr\" src=\"//img1a.flixcart.com/www/linchpin/fk-cp-zion/img/placeholder_9951d0.svg\"/>\n",
      "    </div>\n",
      "   </div>\n",
      "  </div>\n",
      "  <div class=\"_3aV9Tq\">\n",
      "   <span class=\"_1GJ2ZM\">\n",
      "    Not Deliverable\n",
      "   </span>\n",
      "  </div>\n",
      "  <div class=\"_3gDSOa _3iGnbq\">\n",
      "   <div class=\"DsQ2eg\">\n",
      "    <svg class=\"_2oLiqr\" height=\"16\" viewbox=\"0 0 20 16\" width=\"16\" xmlns=\"http://www.w3.org/2000/svg\">\n",
      "     <path class=\"_35Y7Yo\" d=\"M8.695 16.682C4.06 12.382 1 9.536 1 6.065 1 3.219 3.178 1 5.95 1c1.566 0 3.069.746 4.05 1.915C10.981 1.745 12.484 1 14.05 1 16.822 1 19 3.22 19 6.065c0 3.471-3.06 6.316-7.695 10.617L10 17.897l-1.305-1.215z\" fill=\"#2874F0\" fill-rule=\"evenodd\" opacity=\".9\" stroke=\"#FFF\">\n",
      "     </path>\n",
      "    </svg>\n",
      "   </div>\n",
      "  </div>\n",
      " </a>\n",
      " <a class=\"_2cLu-l\" href=\"/khadi-organique-kills-99-99-germs-infection-without-water-triple-action-formula-sanitizes-hands-ph-balanced-nourishes-skin-hand-sanitizer-bottle/p/itm79e535b48c44b?pid=HWSFPYWQZCEQJHTQ&amp;lid=LSTHWSFPYWQZCEQJHTQ2VN54S&amp;marketplace=FLIPKART&amp;srno=s_1_1&amp;otracker=AS_QueryStore_OrganicAutoSuggest_1_3_na_na_na&amp;otracker1=AS_QueryStore_OrganicAutoSuggest_1_3_na_na_na&amp;fm=organic&amp;iid=13159335-5523-40c4-9d8b-239e91ebc263.HWSFPYWQZCEQJHTQ.SEARCH&amp;ssid=kyl4sqayds0000001588427058549&amp;qH=2ef7ed4d594bca91\" rel=\"noopener noreferrer\" target=\"_blank\" title=\"Khadi Organique  kills 99.99% germs and infection without water with triple action formula sanitizes hands, pH balanced, nourishes skin Hand Sanitizer Bottle\">\n",
      "  Khadi Organique  kills 99.99% germs and infection witho...\n",
      " </a>\n",
      " <div class=\"niH0FQ _36Fcw_\">\n",
      "  <span class=\"_2_KrJI\" id=\"productRating_LSTHWSFPYWQZCEQJHTQ2VN54S_HWSFPYWQZCEQJHTQ_\">\n",
      "   <div class=\"hGSR34\">\n",
      "    4\n",
      "    <img class=\"_2lQ_WZ\" src=\"data:image/svg+xml;base64,PHN2ZyB4bWxucz0iaHR0cDovL3d3dy53My5vcmcvMjAwMC9zdmciIHdpZHRoPSIxMyIgaGVpZ2h0PSIxMiI+PHBhdGggZmlsbD0iI0ZGRiIgZD0iTTYuNSA5LjQzOWwtMy42NzQgMi4yMy45NC00LjI2LTMuMjEtMi44ODMgNC4yNTQtLjQwNEw2LjUuMTEybDEuNjkgNC4wMSA0LjI1NC40MDQtMy4yMSAyLjg4Mi45NCA0LjI2eiIvPjwvc3ZnPg==\"/>\n",
      "   </div>\n",
      "  </span>\n",
      "  <span class=\"_38sUEc\">\n",
      "   (107)\n",
      "  </span>\n",
      " </div>\n",
      " <div class=\"_3LWrw9\">\n",
      "  <img height=\"21\" src=\"//img1a.flixcart.com/www/linchpin/fk-cp-zion/img/fa_8b4b59.png\"/>\n",
      " </div>\n",
      " <a class=\"_1Vfi6u\" href=\"/khadi-organique-kills-99-99-germs-infection-without-water-triple-action-formula-sanitizes-hands-ph-balanced-nourishes-skin-hand-sanitizer-bottle/p/itm79e535b48c44b?pid=HWSFPYWQZCEQJHTQ&amp;lid=LSTHWSFPYWQZCEQJHTQ2VN54S&amp;marketplace=FLIPKART&amp;srno=s_1_1&amp;otracker=AS_QueryStore_OrganicAutoSuggest_1_3_na_na_na&amp;otracker1=AS_QueryStore_OrganicAutoSuggest_1_3_na_na_na&amp;fm=organic&amp;iid=13159335-5523-40c4-9d8b-239e91ebc263.HWSFPYWQZCEQJHTQ.SEARCH&amp;ssid=kyl4sqayds0000001588427058549&amp;qH=2ef7ed4d594bca91\" rel=\"noopener noreferrer\" target=\"_blank\">\n",
      "  <div class=\"_1uv9Cb\">\n",
      "   <div class=\"_1vC4OE\">\n",
      "    ₹210\n",
      "   </div>\n",
      "  </div>\n",
      " </a>\n",
      "</div>\n"
     ]
    }
   ],
   "source": [
    "# Prettify helps to view and arrange in organised format all the tags of the product\n",
    "print(soup.prettify(prods[0]))"
   ]
  },
  {
   "cell_type": "code",
   "execution_count": 17,
   "metadata": {},
   "outputs": [
    {
     "name": "stdout",
     "output_type": "stream",
     "text": [
      "Khadi Organique  kills 99.99% germs and infection without water with triple action formula sanitizes hands, pH balanced, nourishes skin Hand Sanitizer Bottle\n"
     ]
    }
   ],
   "source": [
    "# All element of prods are stored in variable as prod\n",
    "prod= prods[0]\n",
    "# printing title\n",
    "print(prod.div.img[\"alt\"])"
   ]
  },
  {
   "cell_type": "code",
   "execution_count": 18,
   "metadata": {},
   "outputs": [
    {
     "name": "stdout",
     "output_type": "stream",
     "text": [
      "₹210\n"
     ]
    }
   ],
   "source": [
    "# Price o first element\n",
    "price = prod.findAll('div',{'class':'_1vC4OE'})\n",
    "print(price[0].text)"
   ]
  },
  {
   "cell_type": "code",
   "execution_count": 19,
   "metadata": {},
   "outputs": [
    {
     "name": "stdout",
     "output_type": "stream",
     "text": [
      "4\n"
     ]
    }
   ],
   "source": [
    "# Rating of first element\n",
    "ratings = prod.findAll('div',{'class':'hGSR34'})\n",
    "print(ratings[0].text)"
   ]
  },
  {
   "cell_type": "code",
   "execution_count": 20,
   "metadata": {},
   "outputs": [],
   "source": [
    "# Storing in a file\n",
    "filename ='Sanitizer details.csv'\n",
    "f = open(filename,'w')"
   ]
  },
  {
   "cell_type": "code",
   "execution_count": 21,
   "metadata": {},
   "outputs": [
    {
     "data": {
      "text/plain": [
       "27"
      ]
     },
     "execution_count": 21,
     "metadata": {},
     "output_type": "execute_result"
    }
   ],
   "source": [
    "headers =\"Product_Name,Price,Ratings\\n\"\n",
    "f.write(headers)"
   ]
  },
  {
   "cell_type": "code",
   "execution_count": 22,
   "metadata": {},
   "outputs": [
    {
     "name": "stdout",
     "output_type": "stream",
     "text": [
      "Khadi Organique  kills 99.99% germs and infection without water with triple action formula sanitizes hands, pH balanced, nourishes skin Hand Sanitizer Bottle,Rs.210,4\n",
      "\n",
      "Qraa Safe Hands  for All Kind of Flu, Virus- Anti-Bacterial  with Neem & Aloe Vera Extracts 500ml Hand Sanitizer Pump Dispenser,Rs.250,4\n",
      "\n",
      "Aryanveda Herbals Bodyguard  Disinfectant Gel 500 ml Hand Sanitizer Bottle,Rs.249,4.5\n",
      "\n",
      "Qraa Safe Hands Sanitizing Hand Rub ,Anti-Bacterial Hand Rub With Neem & Aloe Vera Extracts Hand Sanitizer Bottle,Rs.200,4.1\n",
      "\n",
      "Himalaya PureHands Orange Hand Sanitizer Bottle,Rs.250,4.3\n",
      "\n",
      "Khadi Organique kills 99.99% germs and infection without water with triple action formula sanitizes hands, pH balanced, nourishes skin Hand Sanitizer Bottle,Rs.105,4\n",
      "\n",
      "SOBERBIO  with Dispenser Bottle Pack Hand Sanitizer Bottle,Rs.249,3.6\n",
      "\n",
      "Kronokare Bye Bye Bacteria -  - 320 ml Hand Sanitizer Pump Dispenser,Rs.160,4.2\n",
      "\n",
      "VLCC Advanced Hand Sanitizer Bottle,Rs.500,4.4\n",
      "\n",
      "Mediker Instantly Kills 99.9% Germs Without Water Hand Sanitizer Bottle,Rs.250,4.6\n",
      "\n",
      "Nyle  - 5L Hand Sanitizer Bottle,Rs.2450,4.6\n",
      "\n",
      "Lifebuoy Total Sanitizer Hand Sanitizer Pump Dispenser,Rs.250,4.6\n",
      "\n",
      "Dabur Hand Sanitizing Rub Hand Sanitizer Bottle,Rs.225,4.5\n",
      "\n",
      "Lifebuoy Total  Hand Sanitizer Bottle,Rs.250,4.5\n",
      "\n",
      "Aryanveda Herbals Bodyguard  Disinfectant Gel 100 ml Each, Pack of 6 Hand Sanitizer Bottle,Rs.299,4.3\n",
      "\n",
      "Ayurdaily Anti-Bacterial hand Sanitizer Hand Sanitizer Bottle,Rs.205,3.9\n",
      "\n",
      "Zavers Bio Naturals Hand Cleanser gel SUPER SAVER REFILL Handrub Hand Sanitizer Pouch,Rs.439,3.9\n",
      "\n",
      "Dr. Morepen Protect  For Kids And Adults Lemon Extracts Hand Sanitizer Bottle,Rs.250,3.8\n",
      "\n",
      "NutriGlow NATURAL'S Tea Tree & Aloe Vera Rinse Free Hand Rub/ Kills 99.99% Germs Hand Sanitizer Bottle,Rs.250,3.5\n",
      "\n",
      "Dr. Morepen Protect  500 ML Lemon For Kids And Adults Hand Sanitizer Bottle,Rs.250,3.4\n",
      "\n",
      "NutriGlow NATURAL'S Juicy Real Orange Portable Rinse Free Hand Rub/ Kills 99.99% Germs/ Hand Sanitizer Bottle,Rs.250,3.6\n",
      "\n",
      "SOBERBIO  Refill Bottle Pack Hand Sanitizer Bottle,Rs.249,3.5\n",
      "\n",
      "Surjichem Advanced With Aloevera & Lemon  Pack of 5 Hand Sanitizer Bottle,Rs.250,4.3\n",
      "\n",
      "Alcamy Advanced  With Vitamin Rich Aloe Vera Gel Hand Sanitizer Bottle,Rs.249,3.7\n",
      "\n",
      "Surjichem Advanced  With Aloevera & Lemon Hand Sanitizer Bottle,Rs.200,4.7\n",
      "\n",
      "Zavers Bio Naturals Cleanser Gel Handrub Gel Combo pack 100 ml plus 900ml refill Hand Sanitizer Pouch,Rs.479,4.1\n",
      "\n",
      "Manner Instant  Gel, Quick-drying Advanced Formula with Complete Protection Hand Sanitizer Bottle,Rs.100,4\n",
      "\n",
      "Bello Hand Sanitize pack of 2 100ml - No alcohol, No over drying Hand Sanitizer Bottle,Rs.100,4.1\n",
      "\n",
      "DERMEASE  with 100% Gauranteed Germ Free Hand Pack Of 2 Hand Sanitizer Pump Dispenser,Rs.224,4.1\n",
      "\n",
      "DERMEASE  with 100% Gauranteed Germ Free Hand Pack Of 6 (50ml Each) Hand Sanitizer Bottle,Rs.149,4.2\n",
      "\n",
      "K'TRiQ Hygenic  Gel [Antibacterial] [Non-Sticky] Kills Germs No-Rinse Wash Hand Gel Hand Sanitizer Bottle,Rs.2499,4.4\n",
      "\n",
      "DERMEASE Hand Wash Sanitizer 500ml Hand Sanitizer Pump Dispenser,Rs.249,3.8\n",
      "\n",
      "TEJ HAND CLEAN ( Waterless -500ml) Hand Sanitizer Pump Dispenser,Rs.199,3.8\n",
      "\n",
      "arista Hand Sanitizer Bottle,Rs.247,3.9\n",
      "\n",
      "Sage Apothecary Lemon  Bottle Pack of 5 Combo (5X100ML) Hand Sanitizer Bottle,Rs.250,4.1\n",
      "\n",
      "TEJ HAND CLEAN ( Waterless -100ml x 5 ) Hand Sanitizer Bottle,Rs.225,3.9\n",
      "\n",
      "morvin india Germi Q  Hand Sanitizer Bottle,Rs.240,4\n",
      "\n",
      "SuperFox  5000ml Hand Sanitizer Bottle,Rs.2295,4.3\n",
      "\n",
      "TEJ HAND CLEAN ( Waterless - 5Ltr) Hand Sanitizer Bottle,Rs.2299,4.6\n",
      "\n",
      "Dr Venture instant  Anti-Bacterial 500 ml pack of 2 Hand Sanitizer Pump Dispenser,Rs.449,4\n",
      "\n"
     ]
    }
   ],
   "source": [
    "# Till now we have done for one product. So to do for all products we use for loop\n",
    "for prod in prods:\n",
    "    product_name = prod.div.img[\"alt\"]\n",
    "    \n",
    "    price_prod = prod.findAll(\"div\",{'class':'_1vC4OE'})\n",
    "    price = price_prod[0].text.strip()\n",
    "    \n",
    "    rating_prod = prod.findAll('div',{'class':'hGSR34'})\n",
    "    rating = rating_prod[0].text\n",
    "    \n",
    "#     print(\"product_name:\"+product_name)\n",
    "#     print('price:'+ price)\n",
    "#     print('ratings:'+rating)\n",
    "    \n",
    "    trim_price = ''.join(price.split(','))\n",
    "    rupee = trim_price.split('₹')\n",
    "    add_rs = 'Rs.'+rupee[1]\n",
    "    split_price = add_rs.split(' ')\n",
    "    final_price = split_price[0]\n",
    "\n",
    "    split_rating = rating.split(\" \")\n",
    "    final_rating = split_rating[0]\n",
    "\n",
    "    print(product_name+','+final_price+','+final_rating+'\\n')\n",
    "    f.write(product_name+','+final_price+','+final_rating+'\\n')\n",
    "    \n",
    "f.close()\n"
   ]
  },
  {
   "cell_type": "code",
   "execution_count": null,
   "metadata": {},
   "outputs": [],
   "source": []
  }
 ],
 "metadata": {
  "kernelspec": {
   "display_name": "Python 3",
   "language": "python",
   "name": "python3"
  },
  "language_info": {
   "codemirror_mode": {
    "name": "ipython",
    "version": 3
   },
   "file_extension": ".py",
   "mimetype": "text/x-python",
   "name": "python",
   "nbconvert_exporter": "python",
   "pygments_lexer": "ipython3",
   "version": "3.7.3"
  }
 },
 "nbformat": 4,
 "nbformat_minor": 2
}
