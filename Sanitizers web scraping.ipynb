{
 "cells": [
  {
   "cell_type": "code",
   "execution_count": 13,
   "metadata": {},
   "outputs": [
    {
     "name": "stdout",
     "output_type": "stream",
     "text": [
      "209408\n"
     ]
    }
   ],
   "source": [
    "import requests\n",
    "r = requests.get('https://www.snapdeal.com/product/sevenseas-hand-sanitizers-combo-hand/637882963993#bcrumbSearch:sanitizer')\n",
    "print (len(r.text))"
   ]
  },
  {
   "cell_type": "code",
   "execution_count": 14,
   "metadata": {},
   "outputs": [
    {
     "name": "stdout",
     "output_type": "stream",
     "text": [
      "<title>SevenSeas Hand Sanitizers Combo 12x50 mL  &amp; Mask 3 Pcs Hand Sanitizer 50 mL Pack of 15: Buy SevenSeas Hand Sanitizers Combo 12x50 mL  &amp; Mask 3 Pcs Hand Sanitizer 50 mL Pack of 15 at Best Prices in India - Snapdeal\n",
      "</title>\n",
      "SevenSeas Hand Sanitizers Combo 12x50 mL  & Mask 3 Pcs Hand Sanitizer 50 mL Pack of 15: Buy SevenSeas Hand Sanitizers Combo 12x50 mL  & Mask 3 Pcs Hand Sanitizer 50 mL Pack of 15 at Best Prices in India - Snapdeal\n",
      "\n"
     ]
    }
   ],
   "source": [
    "# Importing BeautifulSoup\n",
    "from bs4 import BeautifulSoup\n",
    "soup =BeautifulSoup(r.text)\n",
    "print(soup.title)\n",
    "print(soup.title.string)"
   ]
  },
  {
   "cell_type": "code",
   "execution_count": 15,
   "metadata": {},
   "outputs": [
    {
     "name": "stdout",
     "output_type": "stream",
     "text": [
      "<p>Notifications can be turned off anytime from settings.</p>\n",
      "Notifications can be turned off anytime from settings.\n",
      "<a class=\"hidden\" href=\"/honeybot\">Show all data</a>\n",
      "None\n",
      "\n",
      "<div class=\"col-xs-13 lfloat\">\n",
      "<div class=\"grayBox lfloat\"></div>\n",
      "<i class=\"bellIcon footerIconsImg lfloat marT5\"></i>\n",
      "<h3>We would like to send you awesome offers!</h3>\n",
      "<p>Notifications can be turned off anytime from settings.</p>\n",
      "</div>\n"
     ]
    }
   ],
   "source": [
    "# Accessing page contents using tags\n",
    "print(soup.p)\n",
    "print(soup.p.text)\n",
    "print(soup.a)\n",
    "print(soup.a.title)\n",
    "print()\n",
    "print(soup.p.parent)"
   ]
  },
  {
   "cell_type": "code",
   "execution_count": 16,
   "metadata": {},
   "outputs": [
    {
     "name": "stdout",
     "output_type": "stream",
     "text": [
      "<div class=\"col-xs-13 lfloat\">\n",
      " <div class=\"grayBox lfloat\">\n",
      " </div>\n",
      " <i class=\"bellIcon footerIconsImg lfloat marT5\">\n",
      " </i>\n",
      " <h3>\n",
      "  We would like to send you awesome offers!\n",
      " </h3>\n",
      " <p>\n",
      "  Notifications can be turned off anytime from settings.\n",
      " </p>\n",
      "</div>\n",
      "\n"
     ]
    }
   ],
   "source": [
    "# Prettify() is handy for formatted printing\n",
    "print(soup.p.parent.prettify())"
   ]
  },
  {
   "cell_type": "code",
   "execution_count": 17,
   "metadata": {},
   "outputs": [
    {
     "name": "stdout",
     "output_type": "stream",
     "text": [
      "/honeybot\n",
      "https://www.snapdeal.com/products/digital-entertainment\n",
      "javascript:void(0);\n",
      "https://sellers.snapdeal.com/\n",
      "http://www.snapdeal.com/offers/getsnapdealapp\n",
      "https://www.snapdeal.com/helpcenter?redirectFrom=hook\n",
      "https://www.snapdeal.com\n",
      "https://www.snapdeal.com\n",
      "https://www.snapdeal.com/search?clickSrc=top_searches&keyword=sanitizer&categoryId=0&vertical=p&noOfResults=20&SRPID=topsearch\n",
      "https://www.snapdeal.com/search?clickSrc=top_searches&keyword=mask&categoryId=0&vertical=p&noOfResults=20&SRPID=topsearch\n",
      "https://www.snapdeal.com/search?clickSrc=top_searches&keyword=trimmer&categoryId=0&vertical=p&noOfResults=20&SRPID=topsearch\n",
      "https://www.snapdeal.com/search?clickSrc=top_searches&keyword=thermometer&categoryId=0&vertical=p&noOfResults=20&SRPID=topsearch\n",
      "https://www.snapdeal.com/search?clickSrc=top_searches&keyword=hand wash&categoryId=0&vertical=p&noOfResults=20&SRPID=topsearch\n",
      "https://www.snapdeal.com/search?clickSrc=top_searches&keyword=fitness band&categoryId=0&vertical=p&noOfResults=20&SRPID=topsearch\n",
      "https://www.snapdeal.com/search?clickSrc=top_searches&keyword=hair dryer&categoryId=0&vertical=p&noOfResults=20&SRPID=topsearch\n",
      "https://www.snapdeal.com/search?clickSrc=top_searches&keyword=face wash&categoryId=0&vertical=p&noOfResults=20&SRPID=topsearch\n",
      "https://www.snapdeal.com/myorders\n",
      "https://www.snapdeal.com/mywishlist\n",
      "https://www.snapdeal.com/mysdcash\n",
      "https://www.snapdeal.com/myEGiftVoucher\n",
      "https://www.snapdeal.com/logout\n",
      "https://www.snapdeal.com/myorders\n",
      "https://www.snapdeal.com/myorders\n",
      "https://www.snapdeal.com/mywishlist\n",
      "https://www.snapdeal.com/mysdcash\n",
      "https://www.snapdeal.com/login\n",
      "/\n",
      "/helpcenter\n",
      "https://www.snapdeal.com/mywishlist\n",
      "https://www.snapdeal.com/shopping-list\n",
      "https://www.snapdeal.com\n",
      "https://www.snapdeal.com/products/daily-needs\n",
      "https://www.snapdeal.com/products/personal-care-grooming\n",
      "https://www.snapdeal.com/products/beauty-bath-shower\n",
      "https://www.snapdeal.com/products/hand-wash-sanitizers\n",
      "None\n",
      "None\n",
      "None\n",
      "None\n",
      "None\n",
      "None\n",
      "javascript: void(0)\n",
      "javascript: void(0)\n",
      "None\n",
      "http://www.snapdeal.com/offers/areabased_handling\n",
      "http://www.snapdeal.com/faq/faqhome\n",
      "http://www.snapdeal.com/offers/areabased_handling\n",
      "http://www.snapdeal.com/faq/faqhome\n",
      "/offers/areabased_handling\n",
      "javascript: void(0)\n",
      "https://www.snapdeal.com/page/TrustPay\n",
      "https://www.snapdeal.com/offers/exchangeinfo\n",
      "https://www.snapdeal.com/offers/exchange-mobile\n",
      "https://www.snapdeal.com/offers/exchangeinfo\n",
      "https://www.snapdeal.com/offers/exchange-mobile\n",
      "javascript: void(0)\n",
      "javascript: void(0)\n",
      "javascript: void(0)\n",
      "https://www.snapdeal.com/products/beauty-bath-shower\n",
      "https://www.snapdeal.com/products/hand-wash-sanitizers\n",
      "https://www.snapdeal.com/brand/sevenseas\n",
      "https://www.snapdeal.com/products/hand-wash-sanitizers/filters/Type_s~Hand%20Sanitizer\n",
      "https://www.snapdeal.com/products/hand-wash-sanitizers/filters/Form_s~Gel\n",
      "/seller/S4d4d6\n",
      "/seller/S4d4d6\n",
      "/viewAllSellers/product/sevenseas-hand-sanitizers-combo-hand/637882963993?supc=SDL381332111\n",
      "http://seller.snapdeal.com/sellFromExistingCatalog?pogId=637882963993\n",
      "/seller/S4d4d6\n",
      "/seller/S4d4d6\n",
      "/viewAllSellers/product/sevenseas-hand-sanitizers-combo-hand/637882963993?supc=SDL381332111\n",
      "http://seller.snapdeal.com/sellFromExistingCatalog?pogId=637882963993\n",
      "/products/hand-wash-sanitizers\n",
      "https://www.snapdeal.com/brand/sevenseas\n",
      "https://www.snapdeal.com/brand/sevenseas/hand-wash-sanitizers\n",
      "/products/hand-wash-sanitizers?q=Price:400,500&sort=plrty\n",
      "/products/hand-wash-sanitizers?q=Price:400,500&sort=plrty\n",
      "#top\n",
      "https://www.snapdeal.com/page/terms\n",
      "https://www.snapdeal.com/page/TrustPay\n",
      "https://www.snapdeal.com/help?redirectFrom=footerstrip\n",
      "https://www.snapdeal.com/offers/getsnapdealapp\n",
      "https://www.snapdeal.com/page/privacy-policy\n",
      "https://www.snapdeal.com/page/terms-of-sale\n",
      "https://www.snapdeal.com/offers/terms-of-use\n",
      "https://www.snapdeal.com/page/abusePolicy\n",
      "https://www.snapdeal.com/page/about-us\n",
      "https://www.snapdeal.com/page/core-values\n",
      "https://jaspercareers.peoplestrong.com/\n",
      "http://blog.snapdeal.com/\n",
      "https://www.snapdeal.com/info/sitemap\n",
      "https://play.google.com/store/apps/details?id=com.snapdeal.main&hl=en_IN\n",
      "http://sellers.snapdeal.com/\n",
      "https://ads.snapdeal.com/\n",
      "mailto:mediarelations@snapdeal.com\n",
      "https://affiliate.snapdeal.com/\n",
      "https://www.snapdeal.com/faq/faqhome\n",
      "https://www.snapdeal.com/faq/faqCustomerCare\n",
      "https://www.snapdeal.com/products/women-apparel\n",
      "https://www.snapdeal.com/offers/getsnapdealapp\n",
      "https://www.facebook.com/Snapdeal\n",
      "https://twitter.com/snapdeal\n",
      "https://www.youtube.com/user/snapdeal\n",
      "https://instagram.com/snapdeal/?hl=en\n",
      "https://www.pinterest.com/snapdeal/\n"
     ]
    }
   ],
   "source": [
    "for link in soup.find_all('a'):\n",
    "    print(link.get('href'))"
   ]
  },
  {
   "cell_type": "code",
   "execution_count": 18,
   "metadata": {},
   "outputs": [
    {
     "name": "stdout",
     "output_type": "stream",
     "text": [
      "1\n",
      "2\n",
      "3\n",
      "4\n",
      "5\n",
      "6\n",
      "7\n",
      "8\n",
      "9\n",
      "10\n",
      "11\n",
      "12\n",
      "13\n"
     ]
    }
   ],
   "source": [
    "# Filter urls which we want and removing all other\n",
    "base_url = 'https://www.snapdeal.com'\n",
    "state_links = []\n",
    "for link in soup.find_all('a'):\n",
    "    url = link.get('href')\n",
    "    if url and '/products/' in url and '/helpcenter' not in url:\n",
    "        state_links.append(url)\n",
    "        print(len(state_links))\n",
    "        "
   ]
  },
  {
   "cell_type": "code",
   "execution_count": 21,
   "metadata": {},
   "outputs": [
    {
     "name": "stdout",
     "output_type": "stream",
     "text": [
      "Handwash & Sanitizers: Buy Handwash & Sanitizers Online at Best Prices in India on Snapdeal\n",
      "\n"
     ]
    }
   ],
   "source": [
    "# Getting data of one page\n",
    "r = requests.get(base_url + state_links[11])\n",
    "soup = BeautifulSoup(r.text)\n",
    "print(soup.title.string)"
   ]
  },
  {
   "cell_type": "code",
   "execution_count": 22,
   "metadata": {},
   "outputs": [
    {
     "name": "stdout",
     "output_type": "stream",
     "text": [
      "0\n"
     ]
    }
   ],
   "source": [
    "# The data we need in tr tags\n",
    "rows = soup.find_all('tr')\n",
    "print(len(rows))"
   ]
  },
  {
   "cell_type": "code",
   "execution_count": null,
   "metadata": {},
   "outputs": [],
   "source": []
  }
 ],
 "metadata": {
  "kernelspec": {
   "display_name": "Python 3",
   "language": "python",
   "name": "python3"
  },
  "language_info": {
   "codemirror_mode": {
    "name": "ipython",
    "version": 3
   },
   "file_extension": ".py",
   "mimetype": "text/x-python",
   "name": "python",
   "nbconvert_exporter": "python",
   "pygments_lexer": "ipython3",
   "version": "3.7.3"
  }
 },
 "nbformat": 4,
 "nbformat_minor": 2
}
